{
 "cells": [
  {
   "cell_type": "markdown",
   "id": "3cfc4473",
   "metadata": {},
   "source": [
    "## Challenges from \"Python By Example\" Part 4"
   ]
  },
  {
   "cell_type": "code",
   "execution_count": 1,
   "id": "ded2fe87",
   "metadata": {},
   "outputs": [
    {
     "name": "stdout",
     "output_type": "stream",
     "text": [
      "Enter your first name. Hans\n",
      "4\n",
      "Enter your surname. Wedel\n",
      "5\n",
      "Hans Wedel\n",
      "10\n"
     ]
    }
   ],
   "source": [
    "# 80. Ask the user to enter their  first name and then display  the length of their first name.  Then ask for their surname  and display the length of  their surname.\n",
    "x = input(\"Enter your first name. \")\n",
    "print(len(x))\n",
    "y = input(\"Enter your surname. \")\n",
    "print(len(y))\n",
    "u = x + \" \" + y\n",
    "print(u)\n",
    "print(len(u))\n"
   ]
  },
  {
   "cell_type": "code",
   "execution_count": 5,
   "id": "9080fe70",
   "metadata": {},
   "outputs": [
    {
     "name": "stdout",
     "output_type": "stream",
     "text": [
      "Type in your favorite subject.Mathematics\n",
      "M-a-t-h-e-m-a-t-i-c-s-"
     ]
    }
   ],
   "source": [
    "#81. Ask the user to type in their favorite subject. Display it with '-' after each letter.\n",
    "x = input(\"Type in your favorite subject.\")\n",
    "for i in x:\n",
    "    print(i, end= '-')"
   ]
  },
  {
   "cell_type": "code",
   "execution_count": 6,
   "id": "ea937367",
   "metadata": {},
   "outputs": [
    {
     "name": "stdout",
     "output_type": "stream",
     "text": [
      "Choose a starting point number. 2\n",
      "Choose an ending point number. 6\n",
      "ses \n"
     ]
    }
   ],
   "source": [
    "#82. Show the user a line of text from your favourite poem  and ask for a starting and ending point. Display the  characters between those two points. \n",
    "x = \"Roses are red, violets are blue\"\n",
    "u = int(input(\"Choose a starting point number. \"))\n",
    "y = int(input(\"Choose an ending point number. \"))\n",
    "\n",
    "p = x[u:y]\n",
    "print(p)\n"
   ]
  },
  {
   "cell_type": "code",
   "execution_count": 1,
   "id": "1c7b1584",
   "metadata": {},
   "outputs": [
    {
     "name": "stdout",
     "output_type": "stream",
     "text": [
      "Type in a word in upper case. guy\n",
      "Try again. \n",
      "Type in a word in upper case. pi\n",
      "Try again. \n",
      "Type in a word in upper case. GUY\n",
      "Is upper case. Congrats! \n"
     ]
    }
   ],
   "source": [
    "#83. Ask the user to type in a word in upper case. If they  type it in lower case, ask them to try again. Keep  repeating this until they type in a message all in  uppercase. \n",
    "\n",
    "r = 0\n",
    "\n",
    "while r == 0:\n",
    "    x = input(\"Type in a word in upper case. \")\n",
    "    if x.isupper():\n",
    "        r = 2\n",
    "        print(\"Is upper case. Congrats! \")\n",
    "    else: \n",
    "        r = 0\n",
    "        print(\"Try again. \")\n"
   ]
  },
  {
   "cell_type": "code",
   "execution_count": 2,
   "id": "b5d7a0de",
   "metadata": {},
   "outputs": [
    {
     "name": "stdout",
     "output_type": "stream",
     "text": [
      "Type in your lastname. wedel\n",
      "WE\n"
     ]
    }
   ],
   "source": [
    "# 84. Ask the user to type in their  lastname. Display the first  two letters in uppercase.\n",
    "x = input(\"Type in your lastname. \")\n",
    "y = x[0:2]\n",
    "o = y.upper()\n",
    "print(o)\n",
    "\n"
   ]
  },
  {
   "cell_type": "code",
   "execution_count": 3,
   "id": "0d1bf76a",
   "metadata": {},
   "outputs": [
    {
     "name": "stdout",
     "output_type": "stream",
     "text": [
      "Type in your name. Hans\n",
      "There are  1  vowels in your name. \n"
     ]
    }
   ],
   "source": [
    "#85. Ask the user to type in their name  and then tell them how many vowels are in their name. \n",
    "x = input(\"Type in your name. \")\n",
    "vowels = ['a', 'e', 'i', 'o', 'u']\n",
    "count = 0\n",
    "for i in x:\n",
    "    if i in vowels:\n",
    "        count += 1\n",
    "print(\"There are \", count, \" vowels in your name. \")"
   ]
  },
  {
   "cell_type": "code",
   "execution_count": 4,
   "id": "315b8601",
   "metadata": {},
   "outputs": [
    {
     "name": "stdout",
     "output_type": "stream",
     "text": [
      "Enter a new password. hanswedel\n",
      "Enter the password again. HANSwedel\n",
      "They must be in the same case. \n"
     ]
    }
   ],
   "source": [
    "#86 Ask the user to enter a new password. Ask  them to enter it again. If the two passwords  match, display “Thank you”. If the letters are  correct but in the wrong case, display the  message “They must be in the same case”,  otherwise display the message “Incorrect”. \n",
    "x = input(\"Enter a new password. \")\n",
    "y = input(\"Enter the password again. \")\n",
    "\n",
    "if x == y:\n",
    "    print(\"Thank you!\")\n",
    "elif x.lower() == y.lower():\n",
    "    print(\"They must be in the same case. \")\n",
    "else: \n",
    "    print(\"Incorrect. \")\n",
    "    \n"
   ]
  },
  {
   "cell_type": "code",
   "execution_count": 20,
   "id": "1a53beff",
   "metadata": {},
   "outputs": [
    {
     "name": "stdout",
     "output_type": "stream",
     "text": [
      "Type in a word: hansel\n",
      "l\n",
      "e\n",
      "s\n",
      "n\n",
      "a\n",
      "h\n"
     ]
    }
   ],
   "source": [
    "#87. Ask the user to type in a word and then  display it backwards on separate lines. For  instance, if they type in “Hello” it should  display as shown below: \n",
    "x = input(\"Type in a word: \")\n",
    "for i in x:\n",
    "    \n",
    "    u = x.index(i)\n",
    "    e = (len(x) - 1) - u\n",
    "    print(x[e])\n"
   ]
  },
  {
   "cell_type": "code",
   "execution_count": 24,
   "id": "83135d31",
   "metadata": {},
   "outputs": [
    {
     "name": "stdout",
     "output_type": "stream",
     "text": [
      "Enter num: 33\n",
      "Enter num: 44\n",
      "Enter num: 55\n",
      "Enter num: 3\n",
      "Enter num: 1\n",
      "[55, 44, 33, 3, 1]\n"
     ]
    }
   ],
   "source": [
    "#88. Ask the user for a list of five  integers. Store them in an array.  Sort the list and display it in  reverse order. \n",
    "from array import *\n",
    "ar = array('i', []) \n",
    "for x in range(0, 5):\n",
    "    value = int(input(\"Enter num: \"))\n",
    "    ar.append(value)\n",
    "ar = sorted(ar)\n",
    "ar.reverse()\n",
    "print(ar)"
   ]
  },
  {
   "cell_type": "code",
   "execution_count": 29,
   "id": "f2bb47ff",
   "metadata": {},
   "outputs": [
    {
     "name": "stdout",
     "output_type": "stream",
     "text": [
      "array('i', [17, 18, 92, 99, 18])\n",
      "17\n",
      "18\n",
      "92\n",
      "99\n",
      "18\n"
     ]
    }
   ],
   "source": [
    "#89. Create an array which will store a list of integers.  Generate five random numbers and store them in  the array. Display the array (showing each item on  a separate line). \n",
    "from array import *\n",
    "import random\n",
    "ar = array('i', [])\n",
    "for i in range(5):\n",
    "    x = random.randint(1, 100)\n",
    "    ar.append(x)\n",
    "print(ar)\n",
    "for j in range(len(ar)):\n",
    "    print(ar[j])\n"
   ]
  },
  {
   "cell_type": "code",
   "execution_count": 2,
   "id": "61165262",
   "metadata": {},
   "outputs": [
    {
     "name": "stdout",
     "output_type": "stream",
     "text": [
      "Enter a number. 4\n",
      "Outside the range. \n",
      "Enter a number. 11\n",
      "Enter a number. 145\n",
      "Outside the range. \n",
      "Enter a number. 14\n",
      "Enter a number. 12\n",
      "Enter a number. 18\n",
      "Enter a number. 17\n",
      "Thank you!\n",
      "array('i', [11, 14, 12, 18, 17])\n"
     ]
    }
   ],
   "source": [
    "#90. Ask the user to enter numbers. If they enter a  number between 10 and 20, save it in the array,  otherwise display the message “Outside the  range”. Once five numbers have been  successfully added, display the message “Thank  you” and display the array with each item shown  on a separate line. \n",
    "from array import *\n",
    "ar = array('i', [])\n",
    "u = 0\n",
    "while u < 5:\n",
    "    \n",
    "    x = int(input(\"Enter a number. \"))\n",
    "    if x > 10 and x < 20:\n",
    "        ar.append(x)\n",
    "        u += 1\n",
    "    else: \n",
    "        print(\"Outside the range. \")\n",
    "    if u == 5:\n",
    "        print(\"Thank you!\")\n",
    "        print(ar)\n"
   ]
  },
  {
   "cell_type": "code",
   "execution_count": 6,
   "id": "1f3305c9",
   "metadata": {},
   "outputs": [
    {
     "name": "stdout",
     "output_type": "stream",
     "text": [
      "Enter a number. 22\n",
      "Enter a number. 33\n",
      "Enter a number. 66\n",
      "Enter a number. 44\n",
      "Thank you!\n",
      "array('i', [22, 33, 33, 66, 44])\n",
      "Enter a number from the array! 33\n",
      "33  appears in the array  2  times!\n"
     ]
    }
   ],
   "source": [
    "#91. Create an array which contains  five numbers (two of which  should be repeated). Display  the whole array to the user. Ask  the user to enter one of the  numbers from the array and  then display a message saying  how many times that number  appears in the list. \n",
    "from array import *\n",
    "ar = array('i', [])\n",
    "u = 0\n",
    "while u < 5:\n",
    "    \n",
    "    x = int(input(\"Enter a number. \"))\n",
    "    ar.append(x)\n",
    "    u += 1\n",
    "    if u == 2:\n",
    "        ar.append(x)\n",
    "        u += 1\n",
    "    \n",
    "    if u == 5:\n",
    "        print(\"Thank you!\")\n",
    "        print(ar)\n",
    "p = int(input(\"Enter a number from the array! \"))\n",
    "i = ar.count(p)\n",
    "print(p, \" appears in the array \", i, \" times!\")\n"
   ]
  },
  {
   "cell_type": "code",
   "execution_count": 12,
   "id": "92bf9efc",
   "metadata": {},
   "outputs": [
    {
     "name": "stdout",
     "output_type": "stream",
     "text": [
      "Enter a number. 44\n",
      "Enter a number. 77\n",
      "Enter a number. 22\n",
      "[6, 13, 22, 28, 36, 44, 64, 77]\n",
      "array('i', [64, 6, 28, 36, 13])\n",
      "6\n",
      "13\n",
      "22\n",
      "28\n",
      "36\n",
      "44\n",
      "64\n",
      "77\n"
     ]
    }
   ],
   "source": [
    "#92. Create two arrays (one  containing three numbers that  the user enters and one  containing a set of five random  numbers). Join these two arrays  together into one large array.  Sort this large array and display  it so that each number appears  on a separate line. \n",
    "from array import *\n",
    "import random\n",
    "ar = array('i', [])\n",
    "ae = array('i', [])\n",
    "for i in range(3):\n",
    "    x = int(input(\"Enter a number. \"))\n",
    "    ar.append(x)\n",
    "for q in range(5):\n",
    "    u = random.randint(1, 100)\n",
    "    ae.append(u)\n",
    "\n",
    "for y in range(5):\n",
    "    ar.append(ae[y])\n",
    "ar = sorted(ar)\n",
    "print(ar)\n",
    "print(ae)\n",
    "for r in range(8):\n",
    "    print(ar[r])\n"
   ]
  },
  {
   "cell_type": "code",
   "execution_count": 15,
   "id": "d9b0587d",
   "metadata": {},
   "outputs": [
    {
     "name": "stdout",
     "output_type": "stream",
     "text": [
      "Enter a number for the array. 22\n",
      "Enter a number for the array. 33\n",
      "Enter a number for the array. 66\n",
      "Enter a number for the array. 87\n",
      "Enter a number for the array. 11\n",
      "[11, 22, 33, 66, 87]\n",
      "Select one of the numbers from the array. 22\n",
      "[11, 33, 66, 87]\n",
      "array('i', [22])\n"
     ]
    }
   ],
   "source": [
    "# 93. Ask the user to enter five  numbers. Sort them into order  and present them to the user.  Ask them to select one of the  numbers. Remove it from the  original array and save it in a  new array. \n",
    "from array import *\n",
    "ar = array('i', [])\n",
    "ae = array('i', [])\n",
    "for x in range(5):\n",
    "    u = int(input(\"Enter a number for the array. \"))\n",
    "    ar.append(u)\n",
    "ar = sorted(ar)\n",
    "print(ar)\n",
    "we = int(input(\"Select one of the numbers from the array. \"))\n",
    "ar.remove(we)\n",
    "ae.append(we)\n",
    "print(ar)\n",
    "print(ae)\n",
    "\n"
   ]
  },
  {
   "cell_type": "code",
   "execution_count": 22,
   "id": "ba9b3e8a",
   "metadata": {},
   "outputs": [
    {
     "name": "stdout",
     "output_type": "stream",
     "text": [
      "array('i', [96, 12, 64, 54, 68])\n",
      "Select one of the numbers from the array. 22\n",
      "Try again: 15\n",
      "Try again: 12\n",
      "The index number is  1\n"
     ]
    }
   ],
   "source": [
    "#94. Display an array of five  numbers. Ask the user to  select one of the numbers.  Once they have selected a  number, display the  position of that item in the  array. If they enter  something that is not in  the array, ask them to try  again until they select a  relevant item. \n",
    "from array import *\n",
    "import random\n",
    "ar = array('i', [])\n",
    "ae = array('i', [])\n",
    "for x in range(5):\n",
    "    u = random.randint(1, 100)\n",
    "    ar.append(u)\n",
    "print(ar)\n",
    "y = int(input(\"Select one of the numbers from the array. \"))\n",
    "while y not in ar:\n",
    "    y = int(input(\"Try again: \"))\n",
    "if y in ar:\n",
    "    print(\"The index number is \", ar.index(y))\n"
   ]
  },
  {
   "cell_type": "code",
   "execution_count": 35,
   "id": "f2384654",
   "metadata": {},
   "outputs": [
    {
     "name": "stdout",
     "output_type": "stream",
     "text": [
      "array('f', [72.3499984741211, 60.150001525878906, 13.90999984741211, 98.76000213623047, 92.56999969482422])\n",
      "Enter a whole number between 2 and 5. 3\n",
      "24.12\n",
      "20.05\n",
      "4.64\n",
      "32.92\n",
      "30.86\n"
     ]
    }
   ],
   "source": [
    "#95. Create an array of five numbers  between 10 and 100 which each have  two decimal places. Ask the user to  enter a whole number between 2 and 5.  If they enter something outside of that  range, display a suitable error message  and ask them to try again until they  enter a valid amount. Divide each of the  numbers in the array by the number the  user entered and display the answers  shown to two decimal places. \n",
    "from array import *\n",
    "import random\n",
    "ar = array('f', [])\n",
    "for i in range(5):\n",
    "    x = round(random.uniform(10, 100), 2)\n",
    "    ar.append(x)\n",
    "print(ar)  \n",
    "u = float(input(\"Enter a whole number between 2 and 5. \"))\n",
    "\n",
    "while u > 5 or u < 2:\n",
    "    u = float(input(\"The number is out of range. Enter a new number:  \"))\n",
    "\n",
    "for q in range(5):\n",
    "    er = (ar[q] / u )\n",
    "    ee = round(er, 2)\n",
    "    print(ee)\n",
    "        \n"
   ]
  },
  {
   "cell_type": "code",
   "execution_count": null,
   "id": "ed1db1e2",
   "metadata": {},
   "outputs": [],
   "source": []
  }
 ],
 "metadata": {
  "kernelspec": {
   "display_name": "Python 3 (ipykernel)",
   "language": "python",
   "name": "python3"
  },
  "language_info": {
   "codemirror_mode": {
    "name": "ipython",
    "version": 3
   },
   "file_extension": ".py",
   "mimetype": "text/x-python",
   "name": "python",
   "nbconvert_exporter": "python",
   "pygments_lexer": "ipython3",
   "version": "3.9.12"
  }
 },
 "nbformat": 4,
 "nbformat_minor": 5
}
