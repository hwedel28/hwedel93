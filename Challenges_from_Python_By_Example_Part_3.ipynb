{
 "cells": [
  {
   "cell_type": "markdown",
   "id": "24c4ccab",
   "metadata": {},
   "source": [
    "## Challenges from \"Python By Example\". Part 3"
   ]
  },
  {
   "cell_type": "code",
   "execution_count": 6,
   "id": "b8c8c696",
   "metadata": {},
   "outputs": [
    {
     "name": "stdout",
     "output_type": "stream",
     "text": [
      "16\n"
     ]
    }
   ],
   "source": [
    "#52 Display a  random  integer  between  1 and 100  inclusive. \n",
    "import random\n",
    "x = random.randint(1, 100)\n",
    "print(x)"
   ]
  },
  {
   "cell_type": "code",
   "execution_count": 9,
   "id": "53b07c05",
   "metadata": {},
   "outputs": [
    {
     "name": "stdout",
     "output_type": "stream",
     "text": [
      "lemon\n"
     ]
    }
   ],
   "source": [
    "#53 Display a  random  fruit from  a list of  five fruits. \n",
    "import random\n",
    "fruits = ['banana', 'apple', 'orange', 'lemon', 'mango']\n",
    "x = random.choice(fruits)\n",
    "print(x)"
   ]
  },
  {
   "cell_type": "code",
   "execution_count": 12,
   "id": "70df05c3",
   "metadata": {},
   "outputs": [
    {
     "name": "stdout",
     "output_type": "stream",
     "text": [
      "Do you choose heads or tails? tails\n",
      "You win\n",
      "Computer chose...  tails\n"
     ]
    }
   ],
   "source": [
    "#54 Randomly choose either heads or tails (“h” or “t”). Ask  the user to make their choice. If their choice is the same  as the randomly selected value, display the message  “You win”, otherwise display “Bad luck”. At the end, tell  the user if the computer selected heads or tails. \n",
    "import random\n",
    "hot = ['heads', 'tails']\n",
    "y = random.choice(hot)\n",
    "x = input(\"Do you choose heads or tails? \")\n",
    "if x == y:\n",
    "    print(\"You win\")\n",
    "else: \n",
    "    print(\"Bad luck\")\n",
    "print(\"Computer chose... \", y)"
   ]
  },
  {
   "cell_type": "code",
   "execution_count": 20,
   "id": "f67b85b3",
   "metadata": {},
   "outputs": [
    {
     "name": "stdout",
     "output_type": "stream",
     "text": [
      "Pick a number.2\n",
      "You are too high. Pick a second number.1\n",
      "Correct\n"
     ]
    }
   ],
   "source": [
    "#55. Randomly choose a number between 1 and 5. Ask the user to pick a  number. If they guess correctly, display the message “Well done”,  otherwise tell them if they are too high or too low and ask them to pick a  second number. If they guess correctly on their second guess, display  “Correct”, otherwise display “You lose”. \n",
    "import random\n",
    "x = random.randint(1, 5)\n",
    "y = int(input(\"Pick a number.\"))\n",
    "if x == y:\n",
    "    print(\"Well done!\")\n",
    "if x > y:\n",
    "    \n",
    "    u = int(input(\"You are too low. Pick a second number.\"))\n",
    "    if u == x:\n",
    "        print(\"Correct\")\n",
    "    else:\n",
    "        print(\"You lose.\")\n",
    "if x < y:\n",
    "    \n",
    "    u = int(input(\"You are too high. Pick a second number.\"))\n",
    "    if u == x:\n",
    "        print(\"Correct\")\n",
    "    else:\n",
    "        print(\"You lose.\")"
   ]
  },
  {
   "cell_type": "code",
   "execution_count": 1,
   "id": "2bdd1274",
   "metadata": {},
   "outputs": [
    {
     "name": "stdout",
     "output_type": "stream",
     "text": [
      "Enter a number: 3\n",
      "Incorrect. try another number.4\n",
      "Incorrect. try another number.5\n",
      "Incorrect. try another number.2\n",
      "Incorrect. try another number.1\n",
      "Incorrect. try another number.5\n",
      "Incorrect. try another number.6\n",
      "Congrats! You picked the right number.\n"
     ]
    }
   ],
   "source": [
    "#56. Randomly pick a whole number between 1  and 10. Ask the user to enter a number and  keep entering numbers until they enter the  number that was randomly picked. \n",
    "import random\n",
    "x = random.randint(1,10)\n",
    "y = int(input(\"Enter a number: \"))\n",
    "\n",
    "while x != y:\n",
    "    y = int(input(\"Incorrect. try another number.\"))\n",
    "if x == y:\n",
    "    print(\"Congrats! You picked the right number.\")\n",
    "    \n",
    "    "
   ]
  },
  {
   "cell_type": "code",
   "execution_count": 3,
   "id": "b2c8229d",
   "metadata": {},
   "outputs": [
    {
     "name": "stdout",
     "output_type": "stream",
     "text": [
      "Enter a number: 1\n",
      "Your number is too low. \n",
      "Incorrect. try another number.3\n",
      "Your number is too low. \n",
      "Incorrect. try another number.4\n",
      "Your number is too low. \n",
      "Incorrect. try another number.6\n",
      "Your number is too low. \n",
      "Incorrect. try another number.7\n",
      "Your number is too low. \n",
      "Incorrect. try another number.8\n",
      "Congrats! You picked the right number.\n"
     ]
    }
   ],
   "source": [
    "#57. Update  program 056  so that it  tells the  user if they  are too high  or too low  before they  pick again. \n",
    "import random\n",
    "x = random.randint(1,10)\n",
    "y = int(input(\"Enter a number: \"))\n",
    "\n",
    "while x != y:\n",
    "    if x < y:\n",
    "        print(\"Your number is too high. \")\n",
    "    if x > y:\n",
    "        print(\"Your number is too low. \")\n",
    "    y = int(input(\"Incorrect. try another number.\"))\n",
    "if x == y:\n",
    "    print(\"Congrats! You picked the right number.\")"
   ]
  },
  {
   "cell_type": "code",
   "execution_count": 1,
   "id": "7e9cc49f",
   "metadata": {},
   "outputs": [
    {
     "name": "stdout",
     "output_type": "stream",
     "text": [
      "Choose a color!red\n",
      "Choose again blue\n",
      "Choose again green\n",
      "Choose again white\n",
      "Choose again black\n",
      "Well done.\n"
     ]
    }
   ],
   "source": [
    "#59. Display five colours and ask the user to pick one. If they  pick the same as the program has chosen, say “Well  done”, otherwise display a witty answer which involves  the correct colour, e.g. “I bet you are GREEN with envy”  or “You are probably feeling BLUE right now”. Ask  them to guess again; if they have still not got it right,  keep giving them the same clue and ask the user to  enter a colour until they guess it correctly. \n",
    "import random\n",
    "colors = ['green', 'blue', 'red', 'white', 'black']\n",
    "x = random.choice(colors)\n",
    "y = input(\"Choose a color!\")\n",
    "while x != y:\n",
    "    y = input(\"Choose again \")\n",
    "\n",
    "if x == y:\n",
    "    print(\"Well done.\")\n",
    "\n",
    "    \n",
    "    "
   ]
  },
  {
   "cell_type": "code",
   "execution_count": 3,
   "id": "0dbf082d",
   "metadata": {},
   "outputs": [
    {
     "name": "stdout",
     "output_type": "stream",
     "text": [
      "('Spain', 'Mexico', 'Belgium', 'Panama', 'Russia')\n",
      "Enter in a country from above: Mexico\n",
      "Mexico  is index number  1\n"
     ]
    }
   ],
   "source": [
    "#69. Create a tuple containing the names of five countries and display the whole tuple. Ask  the user to enter one of the countries that have been shown to them and then display  the index number (i.e. position in the list) of that item in the tuple. \n",
    "x = ('Spain', 'Mexico', 'Belgium', 'Panama', 'Russia')\n",
    "print(x)\n",
    "y = input(\"Enter in a country from above: \")\n",
    "print(y, \" is index number \", x.index(y))"
   ]
  },
  {
   "cell_type": "code",
   "execution_count": 7,
   "id": "ad13efa7",
   "metadata": {},
   "outputs": [
    {
     "name": "stdout",
     "output_type": "stream",
     "text": [
      "('Spain', 'Mexico', 'Belgium', 'Panama', 'Russia')\n",
      "Enter in a number from 0 to 4: 2\n",
      "The country for index number  2  is  Belgium\n"
     ]
    }
   ],
   "source": [
    "#70. Add to program 069 to ask the  user to enter a number and  display the country in that  position. \n",
    "x = ('Spain', 'Mexico', 'Belgium', 'Panama', 'Russia')\n",
    "print(x)\n",
    "y = int(input(\"Enter in a number from 0 to 4: \"))\n",
    "print(\"The country for index number \", y, \" is \", x[y])"
   ]
  },
  {
   "cell_type": "code",
   "execution_count": 11,
   "id": "a6757ae6",
   "metadata": {},
   "outputs": [
    {
     "name": "stdout",
     "output_type": "stream",
     "text": [
      "What is your favorite sport? tennis\n",
      "['baseball', 'soccer', 'tennis']\n"
     ]
    }
   ],
   "source": [
    "#71. Create a list of two sports. Ask the  user what their favourite sport is and  add this to the end of the list. Sort the  list and display it. \n",
    "sports = ['soccer', 'baseball']\n",
    "x = input(\"What is your favorite sport? \")\n",
    "sports.append(x)\n",
    "sports.sort()\n",
    "print(sports)"
   ]
  },
  {
   "cell_type": "code",
   "execution_count": 12,
   "id": "5cec3465",
   "metadata": {},
   "outputs": [
    {
     "name": "stdout",
     "output_type": "stream",
     "text": [
      "Which of these subjects do you not like? bio\n",
      "['math', 'english', 'art', 'music', 'chem']\n"
     ]
    }
   ],
   "source": [
    "#72. Create a list of six school subjects. Ask the user which of these  subjects they don’t like. Delete the subject they have chosen from the  list before you display the list again. \n",
    "subjects = ['math', 'english', 'art', 'music', 'chem', 'bio']\n",
    "x = input(\"Which of these subjects do you not like? \")\n",
    "subjects.remove(x)\n",
    "print(subjects)"
   ]
  },
  {
   "cell_type": "code",
   "execution_count": 13,
   "id": "42857cca",
   "metadata": {},
   "outputs": [
    {
     "name": "stdout",
     "output_type": "stream",
     "text": [
      "Name a favorite food of yours.pizza\n",
      "Name a favorite food of yours.tacos\n",
      "Name a favorite food of yours.burritos\n",
      "Name a favorite food of yours.chilaquiles\n",
      "{0: 'pizza', 1: 'tacos', 2: 'burritos', 3: 'chilaquiles'}\n"
     ]
    }
   ],
   "source": [
    "#73. Ask the user to  enter four of their  favourite foods  and store them in  a dictionary so  that they are  indexed with  numbers starting  from 1. Display  the dictionary in  full, showing the  index number  and the item. Ask  them which they  want to get rid of  and remove it  from the list. Sort  the remaining  data and display  the dictionary. \n",
    "foods = {}\n",
    "for x in range(4):\n",
    "    foods[x] = input(\"Name a favorite food of yours.\")\n",
    "print(foods)\n",
    "u = input(\"Which food do you want to get rid of? \")\n"
   ]
  },
  {
   "cell_type": "code",
   "execution_count": 2,
   "id": "baa890ed",
   "metadata": {},
   "outputs": [
    {
     "name": "stdout",
     "output_type": "stream",
     "text": [
      "Enter a color. red\n",
      "Enter a color. blue\n",
      "Enter a color. white\n",
      "Enter a color. black\n",
      "Enter a color. gold\n",
      "Enter a color. pink\n",
      "Enter a color. yellow\n",
      "Enter a color. silver\n",
      "Enter a color. khaki\n",
      "Enter a color. grey\n",
      "Enter a starting number from 0 to 4. 2\n",
      "Enter an end number from 5 and 9. 8\n",
      "['red', 'blue', 'white', 'black', 'gold', 'pink', 'yellow', 'silver', 'khaki', 'grey']\n",
      "['white', 'black', 'gold', 'pink', 'yellow', 'silver']\n"
     ]
    }
   ],
   "source": [
    "#74. Enter a list of ten colours.  Ask the user for a starting  number between 0 and 4  and an end number  between 5 and 9. Display  the list for those colours  between the start and end  numbers the user input. \n",
    "colors = []\n",
    "for x in range(10):\n",
    "    y = input(\"Enter a color. \")\n",
    "    colors = colors + [y]\n",
    "    \n",
    "u = int(input(\"Enter a starting number from 0 to 4. \"))\n",
    "o = int(input(\"Enter an end number from 5 and 9. \"))\n",
    "print(colors)\n",
    "print(colors[u:o])"
   ]
  },
  {
   "cell_type": "code",
   "execution_count": 8,
   "id": "f35cb806",
   "metadata": {},
   "outputs": [
    {
     "name": "stdout",
     "output_type": "stream",
     "text": [
      "562\n",
      "323\n",
      "213\n",
      "626\n",
      "Enter a three digit number.213\n",
      "The index number is  2\n"
     ]
    }
   ],
   "source": [
    "#75. Create a list of four three-digit  numbers. Display the list to the  user, showing each item from  the list on a separate line. Ask  the user to enter a three-digit  number. If the number they  have typed in matches one in  the list, display the position of  that number in the list,  otherwise display the message  “That is not in the list”. \n",
    "three = [562, 323, 213, 626]\n",
    "for x in range(4):\n",
    "    print(three[x])\n",
    "    \n",
    "e = int(input(\"Enter a three digit number.\"))\n",
    "if e in three:\n",
    "    print(\"The index number is \", three.index(e))\n",
    "else:\n",
    "    print(\"That is not in the list!\")\n"
   ]
  },
  {
   "cell_type": "code",
   "execution_count": 12,
   "id": "bbbd15d5",
   "metadata": {},
   "outputs": [
    {
     "name": "stdout",
     "output_type": "stream",
     "text": [
      "Enter the name of the person you want to invite to the party. Kim\n",
      "Enter the name of the person you want to invite to the party. Mona\n",
      "Enter the name of the person you want to invite to the party. Nikki\n",
      "Do you want to invite another person? yes\n",
      "Enter the name of the person you want to invite.Alex\n",
      "Do you want to invite another person? yes\n",
      "Enter the name of the person you want to invite.Dylan\n",
      "Do you want to invite another person? no\n",
      "['Kim', 'Mona', 'Nikki', 'Alex', 'Dylan']\n"
     ]
    }
   ],
   "source": [
    "#76. Ask the user to enter the names of three people they want to  invite to a party and store them in a list. After they have entered  all three names, ask them if they want to add another. If they do,  allow them to add more names until they answer “no”. When  they answer “no”, display how many people they have invited to  the party. \n",
    "names = []\n",
    "for x in range(3):\n",
    "    u = input(\"Enter the name of the person you want to invite to the party. \")\n",
    "    names = names + [u]\n",
    "o = 'yes'\n",
    "while o == 'yes':\n",
    "    o = input(\"Do you want to invite another person? \")\n",
    "    if o == 'yes':\n",
    "        p = input(\"Enter the name of the person you want to invite.\")\n",
    "        names = names + [p]\n",
    "    if o != 'yes':\n",
    "        print(names)"
   ]
  },
  {
   "cell_type": "code",
   "execution_count": 15,
   "id": "e3217d87",
   "metadata": {},
   "outputs": [
    {
     "name": "stdout",
     "output_type": "stream",
     "text": [
      "Enter the name of the person you want to invite to the party. Kim\n",
      "Enter the name of the person you want to invite to the party. Mona\n",
      "Enter the name of the person you want to invite to the party. Leo\n",
      "Do you want to invite another person? yes\n",
      "Enter the name of the person you want to invite.Laura\n",
      "Do you want to invite another person? no\n",
      "['Kim', 'Mona', 'Leo', 'Laura']\n",
      "Type in a name from the list. Kim\n",
      "0\n",
      "Do you still want Kim to come to the party? no\n",
      "['Mona', 'Leo', 'Laura']\n"
     ]
    }
   ],
   "source": [
    "#77. Change program 076 so that once the user has completed their list of names, display the  full list and ask them to type in one of the names on the list. Display the position of that  name in the list. Ask the user if they still want that person to come to the party. If they  answer “no”, delete that entry from the list and display the list again. \n",
    "names = []\n",
    "for x in range(3):\n",
    "    u = input(\"Enter the name of the person you want to invite to the party. \")\n",
    "    names = names + [u]\n",
    "o = 'yes'\n",
    "while o == 'yes':\n",
    "    o = input(\"Do you want to invite another person? \")\n",
    "    if o == 'yes':\n",
    "        p = input(\"Enter the name of the person you want to invite.\")\n",
    "        names = names + [p]\n",
    "    if o != 'yes':\n",
    "        print(names)\n",
    "q = input(\"Type in a name from the list. \")\n",
    "print(names.index(q))\n",
    "t = input(\"Do you still want \" + q + \" to come to the party? \")\n",
    "if t == 'no':\n",
    "    names.remove(q)\n",
    "    print(names)"
   ]
  },
  {
   "cell_type": "code",
   "execution_count": 20,
   "id": "2a81171a",
   "metadata": {},
   "outputs": [
    {
     "name": "stdout",
     "output_type": "stream",
     "text": [
      "Breaking Bad\n",
      "Seinfeld\n",
      "Friends\n",
      "Mandolorian\n",
      "Enter another of your favorite shows. Rome\n",
      "Enter a position you want it placed in. 2\n",
      "['Breaking Bad', 'Seinfeld', 'Rome', 'Friends', 'Mandolorian']\n"
     ]
    }
   ],
   "source": [
    "#78. Create a list containing the titles of  four TV programmes and display  them on separate lines. Ask the  user to enter another show and a  position they want it inserted into  the list. Display the list again,  showing all five TV programmes in  their new positions. \n",
    "tv = ['Breaking Bad', 'Seinfeld', 'Friends', 'Mandolorian']\n",
    "for x in range(4):\n",
    "    print(tv[x])\n",
    "u = input(\"Enter another of your favorite shows. \")\n",
    "i = int(input(\"Enter a position you want it placed in. \"))\n",
    "tv.insert(i, u)\n",
    "print(tv)"
   ]
  },
  {
   "cell_type": "code",
   "execution_count": 22,
   "id": "fbb1ec5e",
   "metadata": {},
   "outputs": [
    {
     "name": "stdout",
     "output_type": "stream",
     "text": [
      "Enter a number.33\n",
      "Enter a number.77\n",
      "Enter a number.99\n",
      "['33', '77', '99']\n",
      "Do you still want the last number saved? no\n",
      "['33', '77']\n"
     ]
    }
   ],
   "source": [
    "#79. Create an empty list called “nums”.  Ask the user to enter numbers.  After each number is entered, add  it to the end of the nums list and  display the list. Once they have  entered three numbers, ask them if  they still want the last number they  entered saved. If they say “no”,  remove the last item from the list.  Display the list of numbers. \n",
    "nums = []\n",
    "for i in range(3):\n",
    "    \n",
    "    x = input(\"Enter a number.\")\n",
    "    nums.append(x)\n",
    "print(nums)\n",
    "p = input(\"Do you still want the last number saved? \")\n",
    "if p == 'no':\n",
    "    nums.remove(nums[-1])\n",
    "print(nums)"
   ]
  },
  {
   "cell_type": "code",
   "execution_count": null,
   "id": "9d780961",
   "metadata": {},
   "outputs": [],
   "source": []
  }
 ],
 "metadata": {
  "kernelspec": {
   "display_name": "Python 3 (ipykernel)",
   "language": "python",
   "name": "python3"
  },
  "language_info": {
   "codemirror_mode": {
    "name": "ipython",
    "version": 3
   },
   "file_extension": ".py",
   "mimetype": "text/x-python",
   "name": "python",
   "nbconvert_exporter": "python",
   "pygments_lexer": "ipython3",
   "version": "3.9.12"
  }
 },
 "nbformat": 4,
 "nbformat_minor": 5
}
