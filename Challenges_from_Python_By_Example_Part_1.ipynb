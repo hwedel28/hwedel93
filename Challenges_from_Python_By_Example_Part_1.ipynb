{
 "cells": [
  {
   "cell_type": "markdown",
   "id": "a6f6d09a",
   "metadata": {},
   "source": [
    "## Preview Problems"
   ]
  },
  {
   "cell_type": "code",
   "execution_count": 1,
   "id": "d0dae970",
   "metadata": {},
   "outputs": [
    {
     "name": "stdout",
     "output_type": "stream",
     "text": [
      "This is a message \n",
      " hi\n"
     ]
    }
   ],
   "source": [
    "print(\"This is a message \\n hi\")"
   ]
  },
  {
   "cell_type": "code",
   "execution_count": 2,
   "id": "2e6a6e2d",
   "metadata": {},
   "outputs": [
    {
     "name": "stdout",
     "output_type": "stream",
     "text": [
      "The answer is 0\n"
     ]
    }
   ],
   "source": [
    "print(\"The answer is\", 0)"
   ]
  },
  {
   "cell_type": "code",
   "execution_count": 4,
   "id": "4f5813af",
   "metadata": {},
   "outputs": [
    {
     "name": "stdout",
     "output_type": "stream",
     "text": [
      "Enter a value: 57\n",
      "57\n"
     ]
    }
   ],
   "source": [
    "Value = input(\"Enter a value: \")\n",
    "print(Value)"
   ]
  },
  {
   "cell_type": "markdown",
   "id": "6fe9a34c",
   "metadata": {},
   "source": [
    "## Challenges from \"Python By Example (Learning to Program in 150 Challenges\")\""
   ]
  },
  {
   "cell_type": "code",
   "execution_count": 1,
   "id": "65fea236",
   "metadata": {},
   "outputs": [
    {
     "name": "stdout",
     "output_type": "stream",
     "text": [
      "What is your first name?:  Mona\n",
      "Hello:Mona\n"
     ]
    }
   ],
   "source": [
    "#1. Ask for the user's firstname and display\n",
    "x = input(\"What is your first name?:  \")\n",
    "print(\"Hello:\" + x)"
   ]
  },
  {
   "cell_type": "code",
   "execution_count": 9,
   "id": "bae7e3ec",
   "metadata": {},
   "outputs": [
    {
     "name": "stdout",
     "output_type": "stream",
     "text": [
      "What is your first name?Hans\n",
      "What is your last name?Wedel\n",
      "Hello:Hans Wedel\n"
     ]
    }
   ],
   "source": [
    "#2. Ask for the user's first name and then surname. Then display\"\n",
    "x = input(\"What is your first name?\")\n",
    "y = input(\"What is your last name?\")\n",
    "print(\"Hello:\" + x + \" \" + y)"
   ]
  },
  {
   "cell_type": "code",
   "execution_count": 12,
   "id": "59248068",
   "metadata": {},
   "outputs": [
    {
     "name": "stdout",
     "output_type": "stream",
     "text": [
      "What do you call a bear with no teeth? \n",
      "A gummy bear\n"
     ]
    }
   ],
   "source": [
    "#3. Display, \"What do you call a bear with no teeth?\". Later.. \"A gummy bear\". Use only one line\n",
    "print(\"What do you call a bear with no teeth? \\nA gummy bear\" )"
   ]
  },
  {
   "cell_type": "code",
   "execution_count": 4,
   "id": "31b89a40",
   "metadata": {},
   "outputs": [
    {
     "name": "stdout",
     "output_type": "stream",
     "text": [
      "Type in a number 5\n",
      "Type in another number 5\n",
      "The total is  10\n"
     ]
    }
   ],
   "source": [
    "#4. Display, \"Enter two numbers\".. Add them together and display answer.. \n",
    "x = int(input(\"Type in a number \"))\n",
    "y = int(input(\"Type in another number \"))\n",
    "z = x + y\n",
    "print(\"The total is \", z)"
   ]
  },
  {
   "cell_type": "code",
   "execution_count": 6,
   "id": "51599a8f",
   "metadata": {},
   "outputs": [
    {
     "name": "stdout",
     "output_type": "stream",
     "text": [
      "Enter a number 4\n",
      "Enter a number 4\n",
      "Enter a number 3\n",
      "The answer is  24\n"
     ]
    }
   ],
   "source": [
    "#5 Display, \"Enter 3 numbers \". Add together first 2 numbers then multiply this by third. Display, \"The answer is \"\n",
    "x = int(input(\"Enter a number \"))\n",
    "y = int(input(\"Enter a number \"))\n",
    "z = int(input(\"Enter a number \"))\n",
    "e = (x+y) * z\n",
    "print(\"The answer is \", e)"
   ]
  },
  {
   "cell_type": "code",
   "execution_count": 1,
   "id": "f0cd5095",
   "metadata": {},
   "outputs": [
    {
     "name": "stdout",
     "output_type": "stream",
     "text": [
      "How many slices did you start with? 8\n",
      "How many slices have you eaten? 5\n",
      "You have  3  slices left in your pizza!\n"
     ]
    }
   ],
   "source": [
    "#6 Ask how many slices  of pizza the user  started with and ask  how many slices  they have eaten.  Work out how many  slices they have left  and display the  answer in a userfriendly format. \n",
    "x = int(input(\"How many slices did you start with? \")) \n",
    "y = int(input(\"How many slices have you eaten? \"))\n",
    "z = x-y\n",
    "print(\"You have \", z, \" slices left in your pizza!\")"
   ]
  },
  {
   "cell_type": "code",
   "execution_count": 2,
   "id": "057ebe62",
   "metadata": {},
   "outputs": [
    {
     "name": "stdout",
     "output_type": "stream",
     "text": [
      "What is your name? Hans\n",
      "How old are you? 28\n",
      "29\n"
     ]
    }
   ],
   "source": [
    "#7 Ask the user for their name and their age. Add 1 to their age  and display the output\n",
    "x = str(input(\"What is your name? \"))\n",
    "y = int(input(\"How old are you? \"))\n",
    "z = y+1\n",
    "print(z)"
   ]
  },
  {
   "cell_type": "code",
   "execution_count": 3,
   "id": "1575170e",
   "metadata": {},
   "outputs": [
    {
     "name": "stdout",
     "output_type": "stream",
     "text": [
      "What is the total price of the bill? 88.77\n",
      "How many diners are there? 5\n",
      "Each person must pay  17.753999999999998  dollars!\n"
     ]
    }
   ],
   "source": [
    "#8 Ask for the total price of the bill, then ask how  many diners there are. Divide the total bill by the  number of diners and show how much each  person must pay. \n",
    "x = float(input(\"What is the total price of the bill? \"))\n",
    "y = int(input(\"How many diners are there? \"))\n",
    "z = x / y \n",
    "print(\"Each person must pay \", z, \" dollars!\")"
   ]
  },
  {
   "cell_type": "code",
   "execution_count": 1,
   "id": "5eafb6a8",
   "metadata": {},
   "outputs": [
    {
     "name": "stdout",
     "output_type": "stream",
     "text": [
      "Give me a total number of days and I will change this to hours, minutes, and seconds!3\n",
      "There are  72  hours,  4320  minutes, and  259200  seconds!\n"
     ]
    }
   ],
   "source": [
    "#9 Write a program  that will ask for a  number of days  and then will  show how many  hours, minutes  and seconds are  in that number of  days. \n",
    "x = int(input(\"Give me a total number of days and I will change this to hours, minutes, and seconds!\"))\n",
    "hours = x * 24\n",
    "mins = (hours * 60)\n",
    "secs = (mins * 60 )\n",
    "print(\"There are \", hours, \" hours, \", mins, \" minutes, and \", secs ,\" seconds!\")"
   ]
  },
  {
   "cell_type": "code",
   "execution_count": 2,
   "id": "e2d90d25",
   "metadata": {},
   "outputs": [
    {
     "name": "stdout",
     "output_type": "stream",
     "text": [
      "Enter a weight in kilograms and I will show you how many pounds it equals!5\n",
      "This is equivalent to  11.020000000000001  pounds!\n"
     ]
    }
   ],
   "source": [
    "#10 There are 2,204 pounds in a kilogram. Ask the  user to enter a weight in kilograms and convert it  to pounds. \n",
    "x = float(input(\"Enter a weight in kilograms and I will show you how many pounds it equals!\"))\n",
    "y = x * 2.204\n",
    "print(\"This is equivalent to \", y, \" pounds!\")"
   ]
  },
  {
   "cell_type": "code",
   "execution_count": 4,
   "id": "018d2336",
   "metadata": {},
   "outputs": [
    {
     "name": "stdout",
     "output_type": "stream",
     "text": [
      "Enter a number over 100: 112\n",
      "Enter a number under 10: 7\n",
      "7 goes into  112   16  times!\n"
     ]
    }
   ],
   "source": [
    "#11 Task the user to enter a number over 100 and then enter a number under  10 and tell them how many times the smaller number goes into the larger  number in a user-friendly format. \n",
    "x = int(input(\"Enter a number over 100: \"))\n",
    "y = int(input(\"Enter a number under 10: \"))\n",
    "z = x // y \n",
    "print(y, \"goes into \", x, \" \", z, \" times!\")"
   ]
  },
  {
   "cell_type": "code",
   "execution_count": 5,
   "id": "5c69f056",
   "metadata": {},
   "outputs": [
    {
     "name": "stdout",
     "output_type": "stream",
     "text": [
      "Give me a number! 22\n",
      "Give me another number! 44\n",
      "22  and then  44\n"
     ]
    }
   ],
   "source": [
    "#12 Ask for two numbers. If  the first one is larger  than the second, display  the second number first  and then the first  number, otherwise show  the first number first and  then the second. \n",
    "x = int(input(\"Give me a number! \"))\n",
    "y = int(input(\"Give me another number! \"))\n",
    "if x > y:\n",
    "    print(y, \" and then \", x)\n",
    "else: \n",
    "    print(x, \" and then \", y)"
   ]
  },
  {
   "cell_type": "code",
   "execution_count": 6,
   "id": "02ab09c3",
   "metadata": {},
   "outputs": [
    {
     "name": "stdout",
     "output_type": "stream",
     "text": [
      "Enter a number under 20! 18\n",
      "Thank you!\n"
     ]
    }
   ],
   "source": [
    "#13 Ask the user to enter a  number that is under  20. If they enter a  number that is 20 or  more, display the  message “Too high”,  otherwise display  “Thank you”. \n",
    "x = int(input(\"Enter a number under 20! \"))\n",
    "if x >= 20:\n",
    "    print(\"Too high!\")\n",
    "else:\n",
    "    print(\"Thank you!\")"
   ]
  },
  {
   "cell_type": "code",
   "execution_count": 7,
   "id": "75cefdb2",
   "metadata": {},
   "outputs": [
    {
     "name": "stdout",
     "output_type": "stream",
     "text": [
      "Enter a number between 10 and 20! 22\n",
      "Incorrect answer!\n"
     ]
    }
   ],
   "source": [
    "#14 Ask the user to enter a  number between 10 and 20  (inclusive). If they enter a  number within this range,  display the message “Thank  you”, otherwise display the  message “Incorrect  answer”. \n",
    "x = int(input(\"Enter a number between 10 and 20! \"))\n",
    "if x >= 10 and x <= 20:\n",
    "    print(\"Thank you!\")\n",
    "else: \n",
    "    print(\"Incorrect answer!\")"
   ]
  },
  {
   "cell_type": "code",
   "execution_count": 9,
   "id": "ecf1fc35",
   "metadata": {},
   "outputs": [
    {
     "name": "stdout",
     "output_type": "stream",
     "text": [
      "Enter your favorite color! RED\n",
      "I like red too\n"
     ]
    }
   ],
   "source": [
    "#15 Ask the user to enter their favourite colour. If they enter “red”, “RED” or  “Red” display the message “I like red too”, otherwise display the message  “I don’t like [colour], I prefer red”. \n",
    "x = input(\"Enter your favorite color! \")\n",
    "if x == \"red\" or x == \"Red\" or x == \"RED\":\n",
    "    print(\"I like red too\")\n",
    "else:\n",
    "    print(\"I don't like \", x, \" I prefer red!\")\n",
    "    "
   ]
  },
  {
   "cell_type": "code",
   "execution_count": 11,
   "id": "baf0a7ac",
   "metadata": {},
   "outputs": [
    {
     "name": "stdout",
     "output_type": "stream",
     "text": [
      "Is it raining? no\n",
      "Enjoy your day! \n"
     ]
    }
   ],
   "source": [
    "#16 Ask the user if it is raining and convert their answer to lower case  so it doesn’t matter what case they type it in. If they answer “yes”,  ask if it is windy. If they answer “yes” to this second question,  display the answer “It is too windy for an umbrella”, otherwise  display the message “Take an umbrella”. If they did not answer yes  to the first question, display the answer “Enjoy your day”. \n",
    "x = input(\"Is it raining? \")\n",
    "y = str.lower(x)\n",
    "if y == \"yes\":\n",
    "    xi = input(\"Is it windy? \")\n",
    "    yi = str.lower(xi)\n",
    "    if yi == \"yes\":\n",
    "        print(\"It is too windy for an umbrella! \")\n",
    "    else:\n",
    "        print(\"Take an umbrella! \")\n",
    "else:\n",
    "    print(\"Enjoy your day! \")"
   ]
  },
  {
   "cell_type": "code",
   "execution_count": 14,
   "id": "20c10fad",
   "metadata": {},
   "outputs": [
    {
     "name": "stdout",
     "output_type": "stream",
     "text": [
      "How old are you? 15\n",
      "You can go Trick-or-Treating! \n"
     ]
    }
   ],
   "source": [
    "#17 Ask the user’s age. If they  are 18 or over, display the  message “You can vote”, if  they are aged 17, display the  message “You can learn to  drive”, if they are 16, display  the message “You can buy a  lottery ticket”, if they are  under 16, display the  message “You can go Trickor-Treating”. \n",
    "x = int(input(\"How old are you? \"))\n",
    "if x >= 18:\n",
    "    print(\"You can vote! \")\n",
    "elif x == 17:\n",
    "    print(\"You can learn to drive! \")\n",
    "elif x == 16:\n",
    "    print(\"You can buy a lottery ticket! \")\n",
    "elif x < 16:\n",
    "    print(\"You can go Trick-or-Treating! \")\n",
    "    \n",
    "    "
   ]
  },
  {
   "cell_type": "code",
   "execution_count": 16,
   "id": "b7df0909",
   "metadata": {},
   "outputs": [
    {
     "name": "stdout",
     "output_type": "stream",
     "text": [
      "Enter a number! 4\n",
      "Too low! \n"
     ]
    }
   ],
   "source": [
    "#18 Ask the user to enter a number. If it is under 10,  display the message “Too low”, if their number is  between 10 and 20, display “Correct”, otherwise  display “Too high”. \n",
    "x = int(input(\"Enter a number! \"))\n",
    "if x < 10:\n",
    "    print(\"Too low! \")\n",
    "elif x >= 10 and x <= 20:\n",
    "    print(\"Correct!\")\n",
    "else:\n",
    "    print(\"Too high! \")\n"
   ]
  },
  {
   "cell_type": "code",
   "execution_count": 18,
   "id": "a080fc3a",
   "metadata": {},
   "outputs": [
    {
     "name": "stdout",
     "output_type": "stream",
     "text": [
      "Enter the number 1, 2, or 3! 2\n",
      "Well done! \n"
     ]
    }
   ],
   "source": [
    "#19 Ask the user to enter 1, 2 or 3. If they enter a 1, display  the message “Thank you”, if they enter a 2, display  “Well done”, if they enter a 3, display “Correct”. If  they enter anything else, display “Error message”. \n",
    "x = int(input(\"Enter the number 1, 2, or 3! \"))\n",
    "if x == 1:\n",
    "    print(\"Thank you! \")\n",
    "elif x == 2:\n",
    "    print(\"Well done! \")\n",
    "elif x == 3:\n",
    "    print(\"Correct! \")\n",
    "else: \n",
    "    print(\"Error message! \")\n",
    "    "
   ]
  },
  {
   "cell_type": "code",
   "execution_count": null,
   "id": "0e85aeea",
   "metadata": {},
   "outputs": [],
   "source": []
  }
 ],
 "metadata": {
  "kernelspec": {
   "display_name": "Python 3 (ipykernel)",
   "language": "python",
   "name": "python3"
  },
  "language_info": {
   "codemirror_mode": {
    "name": "ipython",
    "version": 3
   },
   "file_extension": ".py",
   "mimetype": "text/x-python",
   "name": "python",
   "nbconvert_exporter": "python",
   "pygments_lexer": "ipython3",
   "version": "3.9.12"
  }
 },
 "nbformat": 4,
 "nbformat_minor": 5
}
