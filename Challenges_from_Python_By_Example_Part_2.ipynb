{
 "cells": [
  {
   "cell_type": "markdown",
   "id": "88b73b2c",
   "metadata": {},
   "source": [
    "##Challenges from \"Python By Example (Learning to Program in 150 Challenges\")\""
   ]
  },
  {
   "cell_type": "code",
   "execution_count": 2,
   "id": "733b920c",
   "metadata": {},
   "outputs": [
    {
     "name": "stdout",
     "output_type": "stream",
     "text": [
      "Enter your first name Hansel \n",
      "7\n"
     ]
    }
   ],
   "source": [
    "#20 Ask the user to enter  their first name and  then display the  length of their name. \n",
    "x = str(input(\"Enter your first name \"))\n",
    "y = len(x)\n",
    "print(y)"
   ]
  },
  {
   "cell_type": "code",
   "execution_count": 3,
   "id": "d9b7a905",
   "metadata": {},
   "outputs": [
    {
     "name": "stdout",
     "output_type": "stream",
     "text": [
      "Enter your first name.Hans\n",
      "Enter your last name.Wedel\n",
      "HansWedel . The length is  9  characters long.\n"
     ]
    }
   ],
   "source": [
    "#21 Ask the user to enter their first name and then ask them to  enter their surname. Join them together with a space between  and display the name and the length of whole name. \n",
    "x = str(input(\"Enter your first name.\"))\n",
    "y = str(input(\"Enter your last name.\"))\n",
    "z = x + y \n",
    "e = len(z)\n",
    "print(z, \". The length is \", e, \" characters long.\")"
   ]
  },
  {
   "cell_type": "code",
   "execution_count": 5,
   "id": "a629fa71",
   "metadata": {},
   "outputs": [
    {
     "name": "stdout",
     "output_type": "stream",
     "text": [
      "Enter your first name in lower case.hans\n",
      "Enter your last name in lower case.wedel\n",
      "Hans Wedel\n"
     ]
    }
   ],
   "source": [
    "#22 Ask the user to enter their first name and surname in lower  case. Change the case to title case and join them together.  Display the finished result. \n",
    "x = str(input(\"Enter your first name in lower case.\"))\n",
    "u = str(input(\"Enter your last name in lower case.\"))\n",
    "y = str.title(x)\n",
    "e = str.title(u)\n",
    "r = y + \" \" + e\n",
    "print(r)"
   ]
  },
  {
   "cell_type": "code",
   "execution_count": 6,
   "id": "d3ccbbce",
   "metadata": {},
   "outputs": [
    {
     "name": "stdout",
     "output_type": "stream",
     "text": [
      "Type in the first line of a nursery rhyme.Duck, duck, goose\n",
      "Choose a starting number.2\n",
      "Choose an ending number.6\n",
      "17\n",
      "ck, d\n"
     ]
    }
   ],
   "source": [
    "#23 Ask the user to type in the first  line of a nursery rhyme and  display the length of the string.  Ask for a starting number and an  ending number and then display  just that section of the text  (remember Python starts  counting from 0 and not 1). \n",
    "x = str(input(\"Type in the first line of a nursery rhyme.\"))\n",
    "y = len(x)\n",
    "r = int(input(\"Choose a starting number.\"))\n",
    "u = int(input(\"Choose an ending number.\"))+1\n",
    "print(y)\n",
    "print(x[r:u])"
   ]
  },
  {
   "cell_type": "code",
   "execution_count": 8,
   "id": "b0080dc8",
   "metadata": {},
   "outputs": [
    {
     "name": "stdout",
     "output_type": "stream",
     "text": [
      "Type-in any word.descansare\n",
      "DESCANSARE\n"
     ]
    }
   ],
   "source": [
    "#24 Ask the user to type in any word and display it in  upper case. \n",
    "x = str(input(\"Type-in any word.\"))\n",
    "y = str.upper(x)\n",
    "print(y)"
   ]
  },
  {
   "cell_type": "code",
   "execution_count": 10,
   "id": "823df4f3",
   "metadata": {},
   "outputs": [
    {
     "name": "stdout",
     "output_type": "stream",
     "text": [
      "Enter your first name!hANS\n",
      "Enter your surname!wedel\n",
      "HANSWEDEL\n"
     ]
    }
   ],
   "source": [
    "#25 Ask the user to enter their first name. If the length  of their first name is under five characters, ask  them to enter their surname and join them  together (without a space) and display the name  in upper case. If the length of the first name is five  or more characters, display their first name in  lower case. \n",
    "x = str(input(\"Enter your first name!\"))\n",
    "p = len(x)\n",
    "if p < 5:\n",
    "    y = str(input(\"Enter your surname!\"))\n",
    "    e = x+y\n",
    "    print(str.upper(e))\n",
    "elif p >= 5:\n",
    "    print(str.lower(x))"
   ]
  },
  {
   "cell_type": "code",
   "execution_count": 13,
   "id": "dfb56f86",
   "metadata": {},
   "outputs": [
    {
     "name": "stdout",
     "output_type": "stream",
     "text": [
      "Enter a word to be pig-latinized. pig\n",
      "igpay\n"
     ]
    }
   ],
   "source": [
    "#26. Pig Latin takes the first consonant of a word,  moves it to the end of the word and adds on an  “ay”. If a word begins with a vowel you just add  “way” to the end. For example, pig becomes igpay,  banana becomes ananabay, and aadvark becomes  aadvarkway. Create a program that will ask the  user to enter a word and change it into Pig Latin.  Make sure the new word is displayed in lower case. \n",
    "x = str(input(\"Enter a word to be pig-latinized. \"))\n",
    "vowels = ['a', 'i', 'o', 'e', 'u']\n",
    "if x[0] not in vowels:\n",
    "    print(x[1:] + x[0] + 'ay')\n",
    "elif x[0] in vowels:\n",
    "    print(x + \"way\")\n",
    "    "
   ]
  },
  {
   "cell_type": "code",
   "execution_count": 14,
   "id": "80545fed",
   "metadata": {},
   "outputs": [
    {
     "name": "stdout",
     "output_type": "stream",
     "text": [
      "Enter a number with a lots of decimals.2.75775757574\n",
      "5.51551515148\n"
     ]
    }
   ],
   "source": [
    "#27 Ask the user to enter a  number with lots of  decimal places. Multiply  this number by two and  display the answer. \n",
    "x = float(input(\"Enter a number with a lots of decimals.\"))\n",
    "y = x * 2\n",
    "print(y)"
   ]
  },
  {
   "cell_type": "code",
   "execution_count": 15,
   "id": "4eb49af4",
   "metadata": {},
   "outputs": [
    {
     "name": "stdout",
     "output_type": "stream",
     "text": [
      "Enter a number with a lots of decimals.2.8585858585\n",
      "5.72\n"
     ]
    }
   ],
   "source": [
    "#28 Update program 027 so that it will display the answer to  two decimal places. \n",
    "x = float(input(\"Enter a number with a lots of decimals.\"))\n",
    "y = x * 2\n",
    "e = round(y, 2)\n",
    "print(e)"
   ]
  },
  {
   "cell_type": "code",
   "execution_count": 22,
   "id": "3cb320b4",
   "metadata": {},
   "outputs": [
    {
     "name": "stdout",
     "output_type": "stream",
     "text": [
      "Enter a number over 500: 666\n",
      "25.81\n"
     ]
    }
   ],
   "source": [
    "#29 Ask the user to enter an integer that is over 500. Work  out the square root of that number and display it to two decimal places. \n",
    "import math\n",
    "x = float(input(\"Enter a number over 500: \"))\n",
    "y = math.sqrt(x)\n",
    "e = round(y, 2)\n",
    "print(e)"
   ]
  },
  {
   "cell_type": "code",
   "execution_count": 25,
   "id": "fa59f207",
   "metadata": {},
   "outputs": [
    {
     "name": "stdout",
     "output_type": "stream",
     "text": [
      "3.14159\n"
     ]
    }
   ],
   "source": [
    "#30 Display pi(x) to five decimal places\n",
    "import math\n",
    "x = math.pi\n",
    "e = round(x, 5)\n",
    "print(e)"
   ]
  },
  {
   "cell_type": "code",
   "execution_count": 26,
   "id": "50d17894",
   "metadata": {},
   "outputs": [
    {
     "name": "stdout",
     "output_type": "stream",
     "text": [
      "Enter in the radius of a circle.2.464646\n",
      "19.083541444919568\n"
     ]
    }
   ],
   "source": [
    "#31 Ask the user to enter the radius of a circle  (measurement from the centre point to the edge). Work  out the area of the circle (π*radius2). \n",
    "import math\n",
    "x = float(input(\"Enter in the radius of a circle.\"))\n",
    "y = math.pi\n",
    "e = (y * (x ** 2))\n",
    "print(e)"
   ]
  },
  {
   "cell_type": "code",
   "execution_count": 28,
   "id": "78731004",
   "metadata": {},
   "outputs": [
    {
     "name": "stdout",
     "output_type": "stream",
     "text": [
      "Enter the radius of a cylinder.2.55\n",
      "Enter the depth of the cylinder. 3.55\n",
      "72.52\n"
     ]
    }
   ],
   "source": [
    "#32 Ask for the radius and the depth of a cylinder  and work out the total volume (circle  area*depth) rounded to three decimal  places. \n",
    "import math\n",
    "x = float(input(\"Enter the radius of a cylinder.\"))\n",
    "y = float(input(\"Enter the depth of the cylinder. \"))\n",
    "e = math.pi\n",
    "u = (e * (x ** 2) * y)\n",
    "o = round(u, 3)\n",
    "print(o)\n"
   ]
  },
  {
   "cell_type": "code",
   "execution_count": 30,
   "id": "608b9ee5",
   "metadata": {},
   "outputs": [
    {
     "name": "stdout",
     "output_type": "stream",
     "text": [
      "Enter a number.11\n",
      "Enter another number.5\n",
      "2\n",
      "1\n"
     ]
    }
   ],
   "source": [
    "#33 Ask the user to enter two numbers.  Use whole number division to divide  the first number by the second and  also work out the remainder and  display the answer in a user-friendly  way (e.g. if they enter 7 and 2 display  “7 divided by 2 is 3 with 1  remaining”). \n",
    "x = int(input(\"Enter a number.\"))\n",
    "y = int(input(\"Enter another number.\"))\n",
    "e = x // y \n",
    "u = x % y \n",
    "print(e)\n",
    "print(u)"
   ]
  },
  {
   "cell_type": "code",
   "execution_count": 32,
   "id": "8d6951f8",
   "metadata": {},
   "outputs": [
    {
     "name": "stdout",
     "output_type": "stream",
     "text": [
      "Enter your name.Hansel \n",
      "Hansel \n",
      "Hansel \n",
      "Hansel \n"
     ]
    }
   ],
   "source": [
    "#35 Ask the user to enter  their name and then  display their name  three times. \n",
    "x = input(\"Enter your name.\")\n",
    "for i in range(3):\n",
    "    print(x)"
   ]
  },
  {
   "cell_type": "code",
   "execution_count": 33,
   "id": "e3674289",
   "metadata": {},
   "outputs": [
    {
     "name": "stdout",
     "output_type": "stream",
     "text": [
      "Enter your name.hansel \n",
      "Enter a number.3\n",
      "hansel \n",
      "hansel \n",
      "hansel \n"
     ]
    }
   ],
   "source": [
    "#36 Alter program 035 so that it will ask the user to enter their  name and a number and then display their name that  number of times. \n",
    "x = input(\"Enter your name.\")\n",
    "y = int(input(\"Enter a number.\"))\n",
    "for i in range(y):\n",
    "    print(x)"
   ]
  },
  {
   "cell_type": "code",
   "execution_count": 38,
   "id": "02e095c0",
   "metadata": {},
   "outputs": [
    {
     "name": "stdout",
     "output_type": "stream",
     "text": [
      "Enter your name.hansel\n",
      "h\n",
      "a\n",
      "n\n",
      "s\n",
      "e\n",
      "l\n"
     ]
    }
   ],
   "source": [
    "#37 Ask the user to enter their name and display each letter in  their name on a separate line. \n",
    "x = input(\"Enter your name.\")\n",
    "for i in x:\n",
    "    print(i)"
   ]
  },
  {
   "cell_type": "code",
   "execution_count": 39,
   "id": "d62f5ac7",
   "metadata": {},
   "outputs": [
    {
     "name": "stdout",
     "output_type": "stream",
     "text": [
      "Enter your name.hansel\n",
      "Enter a number.2\n",
      "hansel\n",
      "hansel\n"
     ]
    }
   ],
   "source": [
    "#38. Change program  037 to also ask for a  number. Display  their name (one  letter at a time on  each line) and  repeat this for the  number of times  they entered. \n",
    "x = input(\"Enter your name.\")\n",
    "y = int(input(\"Enter a number.\"))\n",
    "for i in range(y):\n",
    "    print(x)"
   ]
  },
  {
   "cell_type": "code",
   "execution_count": 41,
   "id": "7a93b7d2",
   "metadata": {},
   "outputs": [
    {
     "name": "stdout",
     "output_type": "stream",
     "text": [
      "Enter a number between 1 and 12: 6\n",
      "1 x 6 = 6\n",
      "2 x 6 = 12\n",
      "3 x 6 = 18\n",
      "4 x 6 = 24\n",
      "5 x 6 = 30\n",
      "6 x 6 = 36\n",
      "7 x 6 = 42\n",
      "8 x 6 = 48\n",
      "9 x 6 = 54\n",
      "10 x 6 = 60\n",
      "11 x 6 = 66\n",
      "12 x 6 = 72\n"
     ]
    }
   ],
   "source": [
    "#39. Ask the user to enter a number between 1  and 12 and then display the times table for  that number. \n",
    "x = int(input(\"Enter a number between 1 and 12: \"))\n",
    "for i in range(1, 13):\n",
    "    answer = i * x\n",
    "    print(i, \"x\", x, \"=\", answer)\n"
   ]
  },
  {
   "cell_type": "code",
   "execution_count": 2,
   "id": "aaf53350",
   "metadata": {},
   "outputs": [
    {
     "name": "stdout",
     "output_type": "stream",
     "text": [
      "Enter a number below 50.43\n",
      "50\n",
      "49\n",
      "48\n",
      "47\n",
      "46\n",
      "45\n",
      "44\n",
      "43\n"
     ]
    }
   ],
   "source": [
    "#40 Ask for a number below 50 and then count down from  50 to that number, making sure you show the number  they entered in the output. \n",
    "x = int(input(\"Enter a number below 50.\"))\n",
    "for x in range(50, x-1, -1):\n",
    "    print(x)"
   ]
  },
  {
   "cell_type": "code",
   "execution_count": 5,
   "id": "70f32708",
   "metadata": {},
   "outputs": [
    {
     "name": "stdout",
     "output_type": "stream",
     "text": [
      "Enter your name.hansel \n",
      "Enter your number.3\n",
      "hansel \n",
      "hansel \n",
      "hansel \n"
     ]
    }
   ],
   "source": [
    "#41 Ask the user to enter their  name and a number. If the  number is less than 10, then  display their name that  number of times; otherwise  display the message “Too  high” three times. \n",
    "x = input(\"Enter your name.\")\n",
    "y = int(input(\"Enter your number.\"))\n",
    "if y < 10:\n",
    "    for i in range(y):\n",
    "        print(x)\n",
    "else:\n",
    "    print(\"Too high\")"
   ]
  },
  {
   "cell_type": "code",
   "execution_count": 7,
   "id": "c3bd6f41",
   "metadata": {},
   "outputs": [
    {
     "name": "stdout",
     "output_type": "stream",
     "text": [
      "Enter a number: 3\n",
      "Do you want this number included? yes\n",
      "Enter a number: 2\n",
      "Do you want this number included? yes\n",
      "Enter a number: 5\n",
      "Do you want this number included? no\n",
      "Enter a number: 7\n",
      "Do you want this number included? yes\n",
      "Enter a number: 5\n",
      "Do you want this number included? no\n",
      "12\n"
     ]
    }
   ],
   "source": [
    "#42. Set a variable called total to 0. Ask the user to enter  five numbers and after each input ask them if they  want that number included. If they do, then add the  number to the total. If they do not want it included,  don’t add it to the total. After they have entered all five  numbers, display the total. \n",
    "total = 0\n",
    "for i in range(5):\n",
    "    x = int(input(\"Enter a number: \"))\n",
    "    y = input(\"Do you want this number included? \")\n",
    "    if y == \"yes\":\n",
    "        total += x\n",
    "print(total)\n",
    "        \n",
    "    "
   ]
  },
  {
   "cell_type": "code",
   "execution_count": 3,
   "id": "665d8966",
   "metadata": {},
   "outputs": [
    {
     "name": "stdout",
     "output_type": "stream",
     "text": [
      "Which direction do you want to count? up\n",
      "What is the top number? 11\n",
      "0\n",
      "1\n",
      "2\n",
      "3\n",
      "4\n",
      "5\n",
      "6\n",
      "7\n",
      "8\n",
      "9\n",
      "10\n",
      "11\n",
      "Incorrect answer!\n"
     ]
    }
   ],
   "source": [
    "#43. Ask which direction the user wants to count (up or down). If they select up, then ask  them for the top number and then count from 1 to that number. If they select down, ask  them to enter a number below 20 and then count down from 20 to that number. If they  entered something other than up or down, display the message “I don’t understand”. \n",
    "x = input(\"Which direction do you want to count? \")\n",
    "if x == 'up':\n",
    "    y = int(input(\"What is the top number? \"))\n",
    "    for i in range(y+1):\n",
    "        print(i)\n",
    "if x == 'down':\n",
    "    e = int(input(\"Enter a number below 20 \"))\n",
    "    for i in range(e, 0, -1):\n",
    "        print(i)\n",
    "else:\n",
    "    print(\"Incorrect answer!\")\n",
    "\n",
    "    \n",
    "    "
   ]
  },
  {
   "cell_type": "code",
   "execution_count": null,
   "id": "0a832e88",
   "metadata": {},
   "outputs": [],
   "source": [
    "#44. Ask how many people the user wants to invite to a party. If they enter a number below  10, ask for the names and after each name display “[name] has been invited”. If they  enter a number which is 10 or higher, display the message “Too many people”. \n"
   ]
  },
  {
   "cell_type": "code",
   "execution_count": 5,
   "id": "ffb9ff38",
   "metadata": {},
   "outputs": [
    {
     "name": "stdout",
     "output_type": "stream",
     "text": [
      "How many people do you want to invite to the party? 7\n",
      "What are the names of the invitees? Hans\n",
      "Hans has been invited.\n",
      "What are the names of the invitees? Kim \n",
      "Kim  has been invited.\n",
      "What are the names of the invitees? Jenny\n",
      "Jenny has been invited.\n",
      "What are the names of the invitees? Demarcus\n",
      "Demarcus has been invited.\n",
      "What are the names of the invitees? Fanny\n",
      "Fanny has been invited.\n",
      "What are the names of the invitees? Chris\n",
      "Chris has been invited.\n",
      "What are the names of the invitees? Tim\n",
      "Tim has been invited.\n"
     ]
    }
   ],
   "source": [
    "#44. Ask how many people the user wants to invite to a party. If they enter a number below  10, ask for the names and after each name display “[name] has been invited”. If they  enter a number which is 10 or higher, display the message “Too many people”. \n",
    "x = int(input(\"How many people do you want to invite to the party? \"))\n",
    "if x < 10:\n",
    "    for a in range(x):\n",
    "        b = input(\"What are the names of the invitees? \")\n",
    "        print(b + \" has been invited.\")\n",
    "elif x >= 10:\n",
    "    print(\"Too many people!\")\n"
   ]
  },
  {
   "cell_type": "code",
   "execution_count": 6,
   "id": "a79a3252",
   "metadata": {},
   "outputs": [
    {
     "name": "stdout",
     "output_type": "stream",
     "text": [
      "Enter a number.22\n",
      "The total is...  22\n",
      "Enter a number.3\n",
      "The total is...  25\n",
      "Enter a number.11\n",
      "The total is...  36\n",
      "Enter a number.9\n",
      "The total is...  45\n",
      "Enter a number.6\n",
      "The total is...  51\n"
     ]
    }
   ],
   "source": [
    "#45. Set the total to 0 to start with. While the total is 50 or less, ask  the user to input a number. Add that number to the total and  print the message “The total is… [total]”. Stop the loop when  the total is over 50. \n",
    "total = 0 \n",
    "while total <= 50:\n",
    "    x = int(input(\"Enter a number.\"))\n",
    "    total += x\n",
    "    print(\"The total is... \", total)\n",
    "    "
   ]
  },
  {
   "cell_type": "code",
   "execution_count": 1,
   "id": "03f62e3c",
   "metadata": {},
   "outputs": [
    {
     "name": "stdout",
     "output_type": "stream",
     "text": [
      "Enter a number.1\n",
      "1\n",
      "Enter a number.2\n",
      "2\n",
      "Enter a number.3\n",
      "3\n",
      "Enter a number.5\n",
      "5\n",
      "Enter a number.6\n",
      "6\n",
      "The last number you entered was a  6\n"
     ]
    }
   ],
   "source": [
    "#46. Ask the user to enter  a number. Keep  asking until they enter  a value over 5 and  then display the  message “The last  number you entered  was a [number]” and  stop the program. \n",
    "x = 0\n",
    "while x <= 5:\n",
    "    x = int(input(\"Enter a number.\"))\n",
    "    print(x)\n",
    "if x > 5:\n",
    "    print(\"The last number you entered was a \", x)\n",
    "    "
   ]
  },
  {
   "cell_type": "code",
   "execution_count": 4,
   "id": "ad2ac0c8",
   "metadata": {},
   "outputs": [
    {
     "name": "stdout",
     "output_type": "stream",
     "text": [
      "Enter a number. 2\n",
      "Enter another number. 2\n",
      "Do you want to add another number? y\n",
      "Enter another number.2\n",
      "6\n",
      "Enter a number. 2\n",
      "Enter another number. 2\n",
      "Do you want to add another number? no\n",
      "10\n"
     ]
    }
   ],
   "source": [
    "#47. Ask the user to enter a  number and then enter  another number. Add these  two numbers together and  then ask if they want to add  another number. If they  enter “y\", ask them to enter  another number and keep  adding numbers until they  do not answer “y”. Once the  loop has stopped, display  the total. \n",
    "\n",
    "u = 'y'\n",
    "r = 0\n",
    "while u == 'y':\n",
    "    x = int(input(\"Enter a number. \"))\n",
    "    y = int(input(\"Enter another number. \"))\n",
    "    r += x+y\n",
    "    u = input(\"Do you want to add another number? \")\n",
    "    if u == 'y':\n",
    "        o = int(input(\"Enter another number.\"))\n",
    "        r += o\n",
    "        print(r)\n",
    "    else: \n",
    "        u == 'i'\n",
    "        print(r)\n"
   ]
  },
  {
   "cell_type": "code",
   "execution_count": 2,
   "id": "8efafb2d",
   "metadata": {},
   "outputs": [
    {
     "name": "stdout",
     "output_type": "stream",
     "text": [
      "What is the name of who you want to invite? Kim\n",
      "Kim  has been invited!\n",
      "Do you want to invite someboy else? yes\n",
      "What is the name of who you want to invite? David\n",
      "David  has been invited!\n",
      "What is the name of who you want to invite? Opa\n",
      "Opa  has been invited!\n",
      "Do you want to invite someboy else? no\n",
      "There has been  3  invitees.\n"
     ]
    }
   ],
   "source": [
    "#48. Ask for the name of somebody the user wants to invite  to a party. After this, display the message “[name] has  now been invited” and add 1 to the count. Then ask if  they want to invite somebody else. Keep repeating this  until they no longer want to invite anyone else to the  party and then display how many people they have  coming to the party. \n",
    "count = 0\n",
    "u = 'yes'\n",
    "while u == 'yes':\n",
    "    x = input(\"What is the name of who you want to invite? \")\n",
    "    print(x, \" has been invited!\")\n",
    "    count += 1\n",
    "    y = input(\"Do you want to invite someboy else? \")\n",
    "    if y == 'yes':\n",
    "        i = input(\"What is the name of who you want to invite? \")\n",
    "        print(i, \" has been invited!\")\n",
    "        count += 1\n",
    "    else: \n",
    "        print(\"There has been \", count, \" invitees.\")\n",
    "        u = 'no'\n",
    "        \n"
   ]
  },
  {
   "cell_type": "code",
   "execution_count": 2,
   "id": "babb688d",
   "metadata": {},
   "outputs": [
    {
     "name": "stdout",
     "output_type": "stream",
     "text": [
      "Enter a number.33\n",
      "Your number is too low.\n",
      "Enter another number.35\n",
      "Your number is too low.\n",
      "Enter another number.66\n",
      "Your number is too high.\n",
      "Enter another number.55\n",
      "Your number is too high.\n",
      "Enter another number.50\n",
      "Well done, you took  5  attempts.\n"
     ]
    }
   ],
   "source": [
    "#49. Create a variable called  compnum and set the value  to 50. Ask the user to enter a  number. While their guess  is not the same as the  compnum value, tell them if  their guess is too low or too  high and ask them to have  another guess. If they enter  the same value as  compnum, display the  message “Well done, you  took [count] attempts”. \n",
    "compnum = 50 \n",
    "count = 0\n",
    "x = int(input(\"Enter a number.\"))\n",
    "while x != compnum:\n",
    "    if x < 50:\n",
    "        print(\"Your number is too low.\")\n",
    "        count += 1\n",
    "        x = int(input(\"Enter another number.\"))\n",
    "    if x > 50:\n",
    "        print(\"Your number is too high.\")\n",
    "        count += 1\n",
    "        x = int(input(\"Enter another number.\"))\n",
    "if x == 50:\n",
    "    count += 1\n",
    "    print(\"Well done, you took \", count, \" attempts.\")\n"
   ]
  },
  {
   "cell_type": "code",
   "execution_count": 1,
   "id": "21eebc98",
   "metadata": {},
   "outputs": [
    {
     "name": "stdout",
     "output_type": "stream",
     "text": [
      "Enter a number between 10 and 20! 3\n",
      "Too low. Try again! \n",
      "Enter a number between 10 and 20! 7\n",
      "Too low. Try again! \n",
      "Enter a number between 10 and 20! 22\n",
      "Too high. Try again! \n",
      "Enter a number between 10 and 20! 15\n",
      "Thank you!\n"
     ]
    }
   ],
   "source": [
    "#50. Ask the user to enter a number between  10 and 20. If they enter a value under 10,  display the message “Too low” and ask  them to try again. If they enter a value  above 20, display the message “Too high”  and ask them to try again. Keep repeating  this until they enter a value that is  between 10 and 20 and then display the  message “Thank you”. \n",
    "x = 0\n",
    "\n",
    "while x > 20 or x < 10:\n",
    "    x = int(input(\"Enter a number between 10 and 20! \"))\n",
    "    if x < 10:\n",
    "        print(\"Too low. Try again! \")\n",
    "        \n",
    "    if x > 20:\n",
    "        print(\"Too high. Try again! \")\n",
    "                  \n",
    "if x > 10 and x < 20:\n",
    "    print(\"Thank you!\")"
   ]
  }
 ],
 "metadata": {
  "kernelspec": {
   "display_name": "Python 3 (ipykernel)",
   "language": "python",
   "name": "python3"
  },
  "language_info": {
   "codemirror_mode": {
    "name": "ipython",
    "version": 3
   },
   "file_extension": ".py",
   "mimetype": "text/x-python",
   "name": "python",
   "nbconvert_exporter": "python",
   "pygments_lexer": "ipython3",
   "version": "3.9.12"
  }
 },
 "nbformat": 4,
 "nbformat_minor": 5
}
