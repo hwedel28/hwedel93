{
 "cells": [
  {
   "cell_type": "markdown",
   "id": "12ac6e27",
   "metadata": {},
   "source": [
    "## Challenges from \"Python By Example \" - Part 5"
   ]
  },
  {
   "cell_type": "code",
   "execution_count": 1,
   "id": "5254c7aa",
   "metadata": {},
   "outputs": [
    {
     "name": "stdout",
     "output_type": "stream",
     "text": [
      "[[2, 5, 8], [3, 7, 4], [1, 6, 9], [4, 2, 0]]\n"
     ]
    }
   ],
   "source": [
    "#96. Create the following using a  simple 2D list using the  standard Python indexing: \n",
    "ar = [[2, 5, 8], [3, 7, 4], [1, 6, 9], [4, 2, 0]]\n",
    "print(ar)"
   ]
  },
  {
   "cell_type": "code",
   "execution_count": 2,
   "id": "bb4f92ff",
   "metadata": {},
   "outputs": [
    {
     "name": "stdout",
     "output_type": "stream",
     "text": [
      "7\n"
     ]
    }
   ],
   "source": [
    "#97. Using the 2D list from program 096, ask the user to  select a row and a column and display that value. \n",
    "ar = [[2, 5, 8], [3, 7, 4], [1, 6, 9], [4, 2, 0]]\n",
    "x = ar[1][1]\n",
    "print(x)"
   ]
  },
  {
   "cell_type": "code",
   "execution_count": 4,
   "id": "1c72e370",
   "metadata": {},
   "outputs": [
    {
     "name": "stdout",
     "output_type": "stream",
     "text": [
      "Which row would you like displayed? Enter a number from 0 to 3. 2\n",
      "[1, 6, 9]\n",
      "Enter a new number. 11\n",
      "[1, 6, 9, 11]\n"
     ]
    }
   ],
   "source": [
    "#98. Using the 2D list from program 096, ask the user  which row they would like displayed and display  just that row. Ask them to enter a new value and  add it to the end of the row and display the row  again. \n",
    "ar = [[2, 5, 8], [3, 7, 4], [1, 6, 9], [4, 2, 0]]\n",
    "x = int(input(\"Which row would you like displayed? Enter a number from 0 to 3. \"))\n",
    "print(ar[x])\n",
    "y = int(input(\"Enter a new number. \"))\n",
    "ar[x].append(y)\n",
    "u = ar[x]\n",
    "print(u)\n"
   ]
  },
  {
   "cell_type": "code",
   "execution_count": 5,
   "id": "70ef1c0e",
   "metadata": {},
   "outputs": [
    {
     "name": "stdout",
     "output_type": "stream",
     "text": [
      "Which row would you like displayed? Enter a number from 0 to 3. 1\n",
      "[3, 7, 4]\n",
      "Which column would you like displayed? 1\n",
      "7\n",
      "Do you want to change this value? yes\n",
      "Which value do you want here? 8\n",
      "[3, 8, 4]\n"
     ]
    }
   ],
   "source": [
    "#99. Change your previous program  to ask the user which row they  want displayed. Display that  row. Ask which column in that  row they want displayed and  display the value that is held  there. Ask the user if they want  to change the value. If they do,  ask for a new value and change  the data. Finally, display the  whole row again. \n",
    "ar = [[2, 5, 8], [3, 7, 4], [1, 6, 9], [4, 2, 0]]\n",
    "x = int(input(\"Which row would you like displayed? Enter a number from 0 to 3. \"))\n",
    "print(ar[x])\n",
    "y = int(input(\"Which column would you like displayed? \"))\n",
    "print(ar[x][y])\n",
    "w = input(\"Do you want to change this value? \")\n",
    "if w == 'yes':\n",
    "    q = int(input(\"Which value do you want here? \"))\n",
    "    ar[x][y] = q\n",
    "    print(ar[x])\n",
    "else:\n",
    "    print(\"You're finished!\")"
   ]
  },
  {
   "cell_type": "code",
   "execution_count": 6,
   "id": "4a0e9ca3",
   "metadata": {},
   "outputs": [
    {
     "name": "stdout",
     "output_type": "stream",
     "text": [
      "{'John': {'N': 3056, 'S': 8463, 'E': 8441, 'W': 2694}, 'Tom': {'N': 4832, 'S': 6786, 'E': 4737, 'W': 3612}, 'Anne': {'N': 5239, 'S': 4802, 'E': 5820, 'W': 1859}, 'Fiona': {'N': 3904, 'S': 3645, 'E': 8821, 'W': 2451}}\n"
     ]
    }
   ],
   "source": [
    "#100. Create the following using a 2D dictionary showing  the sales each person has made in the different  geographical regions: \n",
    "see = {\"John\":{\"N\":3056, \"S\":8463, \"E\":8441, \"W\":2694}, \"Tom\":{\"N\":4832, \"S\":6786, \"E\":4737, \"W\":3612}, \"Anne\":{\"N\":5239, \"S\":4802, \"E\":5820, \"W\":1859}, \"Fiona\":{\"N\":3904, \"S\":3645, \"E\":8821, \"W\":2451} }\n",
    "print(see)"
   ]
  },
  {
   "cell_type": "code",
   "execution_count": 7,
   "id": "893b4563",
   "metadata": {},
   "outputs": [
    {
     "name": "stdout",
     "output_type": "stream",
     "text": [
      "Give me a name. Tom\n",
      "Give me a region. Either N, S, W, or E: N\n",
      "Give me a number to exchange the sales data. 5050\n",
      "{'N': 5050, 'S': 6786, 'E': 4737, 'W': 3612}\n"
     ]
    }
   ],
   "source": [
    "#101. Using program 100, ask the user for a name and a region. Display the relevant data. Ask  the user for the name and region of data they want to change and allow them to make  the alteration to the sales figure. Display the sales for all regions for the name they  choose. \n",
    "see = {\"John\":{\"N\":3056, \"S\":8463, \"E\":8441, \"W\":2694}, \"Tom\":{\"N\":4832, \"S\":6786, \"E\":4737, \"W\":3612}, \"Anne\":{\"N\":5239, \"S\":4802, \"E\":5820, \"W\":1859}, \"Fiona\":{\"N\":3904, \"S\":3645, \"E\":8821, \"W\":2451} }\n",
    "x = input(\"Give me a name. \")\n",
    "y = input(\"Give me a region. Either N, S, W, or E: \")\n",
    "z = int(input(\"Give me a number to exchange the sales data. \"))\n",
    "see[x][y] = z\n",
    "print(see[x])"
   ]
  },
  {
   "cell_type": "code",
   "execution_count": 2,
   "id": "c22da8f7",
   "metadata": {},
   "outputs": [
    {
     "name": "stdout",
     "output_type": "stream",
     "text": [
      "Give me the name of the person. Mona\n",
      "Tell me the age of this person. 65\n",
      "Give me the shoe size of this person. 9\n",
      "Give me the name of the person. Leo\n",
      "Tell me the age of this person. 8\n",
      "Give me the shoe size of this person. 12\n",
      "Give me the name of the person. Hans\n",
      "Tell me the age of this person. 28\n",
      "Give me the shoe size of this person. 11\n",
      "Give me the name of the person. Nikki\n",
      "Tell me the age of this person. 31\n",
      "Give me the shoe size of this person. 8\n",
      "Give me a name of a person in the list. Nikki\n",
      "{'Age': 31, 'Shoe Size': 8}\n"
     ]
    }
   ],
   "source": [
    "#102. Ask the user to enter the name, age and shoe size for four  people. Ask for the name of one of the people in the list and  display their age and shoe size. \n",
    "see = {}\n",
    "for x in range(4):\n",
    "    a = input(\"Give me the name of the person. \")\n",
    "    b = int(input(\"Tell me the age of this person. \"))\n",
    "    c = int(input(\"Give me the shoe size of this person. \"))\n",
    "    see[a] = {\"Age\": b, \"Shoe Size\": c}\n",
    "u = input(\"Give me a name of a person in the list. \")\n",
    "print(see[u])"
   ]
  },
  {
   "cell_type": "code",
   "execution_count": 5,
   "id": "a80b0794",
   "metadata": {},
   "outputs": [
    {
     "name": "stdout",
     "output_type": "stream",
     "text": [
      "Give me the name of the person. Kim\n",
      "Tell me the age of this person. 22\n",
      "Give me the shoe size of this person. 5\n",
      "Give me the name of the person. Joe\n",
      "Tell me the age of this person. 19\n",
      "Give me the shoe size of this person. 5\n",
      "Give me the name of the person. Nas\n",
      "Tell me the age of this person. 55\n",
      "Give me the shoe size of this person. 5\n",
      "Give me the name of the person. Raymond\n",
      "Tell me the age of this person. 85\n",
      "Give me the shoe size of this person. 13\n",
      "{'Kim': {'Age': 22}, 'Joe': {'Age': 19}, 'Nas': {'Age': 55}, 'Raymond': {'Age': 85}}\n"
     ]
    }
   ],
   "source": [
    "#103. Adapt program 102  to display the  names and ages of  all the people in  the list but do not  show their shoe  size. \n",
    "see = {}\n",
    "for x in range(4):\n",
    "    a = input(\"Give me the name of the person. \")\n",
    "    b = int(input(\"Tell me the age of this person. \"))\n",
    "    c = int(input(\"Give me the shoe size of this person. \"))\n",
    "    see[a] = {\"Age\": b}\n",
    "print(see)"
   ]
  },
  {
   "cell_type": "code",
   "execution_count": 2,
   "id": "bebb4b08",
   "metadata": {},
   "outputs": [
    {
     "name": "stdout",
     "output_type": "stream",
     "text": [
      "Give me the name of the person. Kim \n",
      "Tell me the age of this person. 24\n",
      "Give me the shoe size of this person. 12\n",
      "Give me the name of the person. Tim\n",
      "Tell me the age of this person. 28\n",
      "Give me the shoe size of this person. 12\n",
      "Give me the name of the person. Jenny\n",
      "Tell me the age of this person. 24\n",
      "Give me the shoe size of this person. 8\n",
      "Give me the name of the person. Mona\n",
      "Tell me the age of this person. 64\n",
      "Give me the shoe size of this person. 7\n",
      "Give me a name of a person in the list you want to remove. Tim\n",
      "Kim  {'Age': 24, 'Shoe Size': 12}\n",
      "Jenny {'Age': 24, 'Shoe Size': 8}\n",
      "Mona {'Age': 64, 'Shoe Size': 7}\n"
     ]
    }
   ],
   "source": [
    "#104. After gathering the four names, ages and shoe sizes, ask the  user to enter the name of the person they want to remove from  the list. Delete this row from the data and display the other rows  on separate lines. \n",
    "see = {}\n",
    "for x in range(4):\n",
    "    a = input(\"Give me the name of the person. \")\n",
    "    b = int(input(\"Tell me the age of this person. \"))\n",
    "    c = int(input(\"Give me the shoe size of this person. \"))\n",
    "    see[a] = {\"Age\": b, \"Shoe Size\": c}\n",
    "u = input(\"Give me a name of a person in the list you want to remove. \")\n",
    "del see[u]\n",
    "for i in see:\n",
    "    print(i, see[i])\n",
    "    "
   ]
  },
  {
   "cell_type": "code",
   "execution_count": 4,
   "id": "93f20b6a",
   "metadata": {},
   "outputs": [],
   "source": [
    "#105. Write a new file  called  “Numbers.txt”.  Add five numbers  to the document  which are stored  on the same line  and only  separated by a  comma. Once you  have run the  program, look in  the location where  your program is  stored and you  should see that  the file has been  created. The  easiest way to  view the contents  of the new text file  on a Windows  system is to read it  using Notepad. \n",
    "file = open(\"Countries.txt\", \"w\")\n",
    "file.write(\"2, 6, 11, 9, 100\")\n",
    "file.close()"
   ]
  },
  {
   "cell_type": "code",
   "execution_count": 5,
   "id": "7ebf955d",
   "metadata": {},
   "outputs": [],
   "source": [
    "#106. Create a new file called “Names.txt”. Add five names to the  document, which are stored on separate lines. Once you have  run the program, look in the location where your program is  stored and check that the file has been created properly. \n",
    "file = open(\"Names.txt\", \"w\")\n",
    "na = ['John', 'Malcolm', 'David', 'Jesus', 'Peter']\n",
    "for x in range(5):\n",
    "    file.write(na[x] + '\\n')\n",
    "file.close()"
   ]
  },
  {
   "cell_type": "code",
   "execution_count": 6,
   "id": "3f57dc52",
   "metadata": {},
   "outputs": [
    {
     "name": "stdout",
     "output_type": "stream",
     "text": [
      "John\n",
      "Malcolm\n",
      "David\n",
      "Jesus\n",
      "Peter\n",
      "\n"
     ]
    }
   ],
   "source": [
    "#107. Open the  Names.txt  file and  display  the data  in Python. \n",
    "file = open(\"Names.txt\", \"r\")\n",
    "print(file.read())"
   ]
  },
  {
   "cell_type": "code",
   "execution_count": 10,
   "id": "7d43d191",
   "metadata": {},
   "outputs": [
    {
     "name": "stdout",
     "output_type": "stream",
     "text": [
      "John\n",
      "Malcolm\n",
      "David\n",
      "Jesus\n",
      "Peter\n",
      "Napoleon \n",
      "Napoleon \n",
      "Napoleon \n",
      "Napoleon \n",
      "\n"
     ]
    }
   ],
   "source": [
    "#108. Open the Names.txt file. Ask the user to input a  new name. Add this to the end of the file and  display the entire file. \n",
    "file = open(\"Names.txt\", \"a\")\n",
    "file.write(\"Napoleon \\n\")\n",
    "file.close()\n",
    "\n",
    "file = open(\"Names.txt\", \"r\")\n",
    "print(file.read())\n",
    "file.close()"
   ]
  },
  {
   "cell_type": "code",
   "execution_count": 16,
   "id": "cba22099",
   "metadata": {},
   "outputs": [
    {
     "name": "stdout",
     "output_type": "stream",
     "text": [
      "Enter a 1, 2 or 3. 3\n",
      "Enter a new subject. Potions\n",
      "ChemistryHerbologyPotions\n"
     ]
    }
   ],
   "source": [
    "#109. Ask the user to enter 1, 2 or 3. If they select  anything other than 1, 2 or 3 it should display a  suitable error message.  If they select 1, ask the user to enter a school  subject and save it to a new file called  “Subject.txt”. It should overwrite any existing file  with a new file.  If they select 2, display the contents of the  “Subject.txt” file.  If they select 3, ask the user to enter a new  subject and save it to the file and then display  the entire contents of the file.  Run the program several times to test the  options. \n",
    "x = int(input(\"Enter a 1, 2 or 3. \"))\n",
    "y = [1,2,3]\n",
    "if x not in y:\n",
    "    print(\"Need a 1, 2, or 3.\")\n",
    "if x == 1:\n",
    "    z = input(\"Enter a school subject. \")\n",
    "    file = open(\"Subject.txt\", \"w\")\n",
    "    file.write(z)\n",
    "    file.close()\n",
    "if x == 2:\n",
    "    file = open(\"Subject.txt\", \"r\")\n",
    "    print(file.read())\n",
    "    file.close()\n",
    "if x == 3:\n",
    "    o = input(\"Enter a new subject. \")\n",
    "    file = open(\"Subject.txt\", \"a\")\n",
    "    file.write(o)\n",
    "    file.close()\n",
    "    \n",
    "    file = open(\"Subject.txt\", \"r\")\n",
    "    print(file.read())\n",
    "    file.close()\n",
    "\n",
    "\n",
    "\n",
    "\n",
    "    "
   ]
  },
  {
   "cell_type": "code",
   "execution_count": 21,
   "id": "a67afcc4",
   "metadata": {},
   "outputs": [
    {
     "name": "stdout",
     "output_type": "stream",
     "text": [
      "John\n",
      "Malcolm\n",
      "David\n",
      "Jesus\n",
      "Peter\n",
      "Napoleon \n",
      "Napoleon \n",
      "Napoleon \n",
      "Napoleon \n",
      "\n",
      "Type in one of the names from the list. David\n",
      "John \n",
      "Malcolm \n",
      "Jesus \n",
      "Peter \n",
      "Napoleon \n",
      "\n"
     ]
    }
   ],
   "source": [
    "#110. Using the Names.txt file you  created earlier, display the list of  names in Python. Ask the user to  type in one of the names and then  save all the names except the one  they entered into a new file called  Names2.txt. \n",
    "file = open(\"Names.txt\", \"r\")\n",
    "print(file.read())\n",
    "file.close()\n",
    "names = ['John', 'Malcolm', 'David', 'Jesus', 'Peter', 'Napoleon']\n",
    "u = input(\"Type in one of the names from the list. \")\n",
    "names.remove(u)\n",
    "file = open(\"Names2.txt\", \"w\")\n",
    "for x in range(len(names)):\n",
    "    file.write(names[x] + \" \\n\")\n",
    "file.close()\n",
    "\n",
    "file = open(\"Names2.txt\", \"r\")\n",
    "print(file.read())\n",
    "file.close()\n"
   ]
  },
  {
   "cell_type": "code",
   "execution_count": 2,
   "id": "eacdd113",
   "metadata": {},
   "outputs": [
    {
     "name": "stdout",
     "output_type": "stream",
     "text": [
      "Enter the book. To Kill A Mockingbird\n",
      "Enter the author. Harper Lee\n",
      "Enter the year released. 1960\n",
      "Enter the book. A Brief History of Time\n",
      "Enter the author. Stephen Hawking\n",
      "Enter the year released. 1988\n",
      "Enter the book. The Great Gatsby\n",
      "Enter the author. F. Scott Fitzgerald\n",
      "Enter the year released. 1922\n",
      "Enter the book. The Man Who Mistook His Wife for a Hat\n",
      "Enter the author. Oliver Sacks\n",
      "Enter the year released. 1985\n",
      "Enter the book. Pride and Prejudice\n",
      "Enter the author. Jane Austen\n",
      "Enter the year released. 1813\n",
      "To Kill A Mockingbird,Harper Lee,1960\n",
      "A Brief History of Time,Stephen Hawking,1988\n",
      "The Great Gatsby,F. Scott Fitzgerald,1922\n",
      "The Man Who Mistook His Wife for a Hat,Oliver Sacks,1985\n",
      "Pride and Prejudice,Jane Austen,1813\n",
      "\n"
     ]
    }
   ],
   "source": [
    "#111. Create a .csv file that will store the following data. Call it “Books.csv”. \n",
    "file = open(\"Books.csv\", \"w\")\n",
    "for x in range(5):\n",
    "    book = input(\"Enter the book. \")\n",
    "    author = input(\"Enter the author. \")\n",
    "    year = input(\"Enter the year released. \")\n",
    "    row = book + ',' + author + ',' + year + '\\n'\n",
    "    file.write(str(row))\n",
    "file.close()    \n",
    "\n",
    "file = open(\"Books.csv\", \"r\")\n",
    "print(file.read())\n",
    "file.close()"
   ]
  },
  {
   "cell_type": "code",
   "execution_count": 3,
   "id": "7c64799d",
   "metadata": {},
   "outputs": [
    {
     "name": "stdout",
     "output_type": "stream",
     "text": [
      "Enter the book. The War of the Worlds\n",
      "Enter the author. H. G. Wells\n",
      "Enter the year released. 1898\n",
      "To Kill A Mockingbird,Harper Lee,1960\n",
      "\n",
      "A Brief History of Time,Stephen Hawking,1988\n",
      "\n",
      "The Great Gatsby,F. Scott Fitzgerald,1922\n",
      "\n",
      "The Man Who Mistook His Wife for a Hat,Oliver Sacks,1985\n",
      "\n",
      "Pride and Prejudice,Jane Austen,1813\n",
      "\n",
      "The War of the Worlds,H. G. Wells,1898\n",
      "\n"
     ]
    }
   ],
   "source": [
    "#112. Using the Books.csv file  from program 111, ask  the user to enter another  record and add it to the  end of the file. Display  each row of the .csv file  on a separate line. \n",
    "file = open(\"Books.csv\", \"a\")\n",
    "book = input(\"Enter the book. \")\n",
    "author = input(\"Enter the author. \")\n",
    "year = input(\"Enter the year released. \")\n",
    "row = book + ',' + author + ',' + year + '\\n'\n",
    "file.write(str(row))\n",
    "file.close()\n",
    "file = open(\"Books.csv\", \"r\")\n",
    "for row in file:\n",
    "    print(row)\n",
    "file.close()"
   ]
  },
  {
   "cell_type": "code",
   "execution_count": 6,
   "id": "f93fd481",
   "metadata": {},
   "outputs": [
    {
     "name": "stdout",
     "output_type": "stream",
     "text": [
      "How many more records do you want to add? 2\n",
      "Enter the book. 1984\n",
      "Enter the author. George Orwell\n",
      "Enter the year released. 1949\n",
      "Enter the book. Moby-Dick\n",
      "Enter the author. Herman Melville\n",
      "Enter the year released. 1851\n",
      "Enter an author from the csv. George Orwell\n",
      "1984,George Orwell,1949\n",
      "\n",
      "1984,George Orwell,1949\n",
      "\n",
      "1984,George Orwell,1949\n",
      "\n"
     ]
    }
   ],
   "source": [
    "#113. Using the Books.csv file, ask the user how many records  they want to add to the list and then allow them to add  that many. After all the data has been added, ask for an  author and display all the books in the list by that author.  If there are no books by that author in the list, display a  suitable message. \n",
    "import csv\n",
    "x = int(input(\"How many more records do you want to add? \"))\n",
    "file = open(\"Books.csv\", \"a\")\n",
    "for i in range(x):\n",
    "\n",
    "    book = input(\"Enter the book. \")\n",
    "    author = input(\"Enter the author. \")\n",
    "    year = input(\"Enter the year released. \")\n",
    "    row = book + ',' + author + ',' + year + '\\n'\n",
    "    file.write(str(row))\n",
    "    \n",
    "file.close()\n",
    "file = open(\"Books.csv\", \"r\")\n",
    "u = input(\"Enter an author from the csv. \")\n",
    "reader = csv.reader(file)\n",
    "for row in file:\n",
    "    if u in str(row):\n",
    "        print(row)\n",
    "file.close()"
   ]
  },
  {
   "cell_type": "code",
   "execution_count": 23,
   "id": "b7148105",
   "metadata": {},
   "outputs": [
    {
     "name": "stdout",
     "output_type": "stream",
     "text": [
      "Enter a starting year. 1987\n",
      "Enter an end year. 1999\n",
      "A Brief History of Time\n"
     ]
    }
   ],
   "source": [
    "#114. Using the Books.csv file, ask the user  to enter a starting year and an end  year. Display all books released  between those two years. \n",
    "import csv \n",
    "x = int(input(\"Enter a starting year. \"))\n",
    "y = int(input(\"Enter an end year. \"))\n",
    "file = list(csv.reader(open(\"Books.csv\", \"r\")))\n",
    "tmp = []\n",
    "for row in file:\n",
    "    tmp.append(row)\n",
    "\n",
    "for row in tmp:\n",
    "    o = int(row[2])\n",
    "    if o > x and o < y:\n",
    "        print(row[0])\n",
    "\n",
    "        "
   ]
  },
  {
   "cell_type": "code",
   "execution_count": 36,
   "id": "75c586aa",
   "metadata": {},
   "outputs": [
    {
     "name": "stdout",
     "output_type": "stream",
     "text": [
      "0 -To Kill A Mockingbird,Harper Lee,1960\n",
      "\n",
      "1 -A Brief History of Time,Stephen Hawking,1988\n",
      "\n",
      "2 -The Great Gatsby,F. Scott Fitzgerald,1922\n",
      "\n",
      "3 -The Man Who Mistook His Wife for a Hat,Oliver Sacks,1985\n",
      "\n",
      "4 -Pride and Prejudice,Jane Austen,1813\n",
      "\n",
      "5 -The War of the Worlds,H. G. Wells,1898\n",
      "\n",
      "6 -1984,George Orwell,1949\n",
      "\n",
      "7 -Moby-Dick,Herman Melville,1851\n",
      "\n",
      "8 -1984,George Orwell,1949\n",
      "\n",
      "9 -Moby-Dick,Herman Melville,1851\n",
      "\n",
      "10 -1984,George Orwell,1949\n",
      "\n",
      "11 -Moby-Dick,Herman Melville,1851\n",
      "\n",
      "\n"
     ]
    }
   ],
   "source": [
    "#115. Using the Books.csv file, display the data in  the file along with the row number of each. \n",
    "import csv \n",
    "file = open(\"Books.csv\", \"r\")\n",
    "count = 0\n",
    "for row in file:\n",
    "    print(count, '-' +  row)\n",
    "    count += 1\n",
    "print(file.read())\n",
    "file.close()"
   ]
  },
  {
   "cell_type": "code",
   "execution_count": 5,
   "id": "2fa8a4e3",
   "metadata": {},
   "outputs": [
    {
     "name": "stdout",
     "output_type": "stream",
     "text": [
      "Enter a number: 33\n",
      "1\n",
      "2\n",
      "3\n",
      "4\n",
      "5\n",
      "6\n",
      "7\n",
      "8\n",
      "9\n",
      "10\n",
      "11\n",
      "12\n",
      "13\n",
      "14\n",
      "15\n",
      "16\n",
      "17\n",
      "18\n",
      "19\n",
      "20\n",
      "21\n",
      "22\n",
      "23\n",
      "24\n",
      "25\n",
      "26\n",
      "27\n",
      "28\n",
      "29\n",
      "30\n",
      "31\n",
      "32\n",
      "33\n",
      "None\n"
     ]
    }
   ],
   "source": [
    "#118. Define a subprogram that will ask the user to  enter a number and save it as the variable  “num”. Define another subprogram that will  use “num” and count from 1 to that number. \n",
    "def ask_value():\n",
    "    num = int(input(\"Enter a number: \"))\n",
    "    return num\n",
    "\n",
    "def count(num):\n",
    "    n = 1\n",
    "    while n <= num:\n",
    "        print(n)\n",
    "        n = n + 1\n",
    "\n",
    "def main():\n",
    "    num = ask_value()\n",
    "    count(num)\n",
    "\n",
    "print(main())\n"
   ]
  },
  {
   "cell_type": "code",
   "execution_count": 3,
   "id": "8c5f86f0",
   "metadata": {},
   "outputs": [
    {
     "name": "stdout",
     "output_type": "stream",
     "text": [
      "Pick a low number. 15\n",
      "Pick a high number. 30\n",
      "I am thinking of a number.. \n",
      "Guess the number I am thinking of. 20\n",
      "Too low. Try again. 25\n",
      "Too low. Try again. 28\n",
      "Too low. Try again. 29\n",
      "Too low. Try again. 30\n",
      "Correct, you win! \n",
      "None\n"
     ]
    }
   ],
   "source": [
    "#119. Define a subprogram  that will ask the user to  pick a low and a high  number, and then  generate a random  number between those  two values and store it in  a variable called  “comp_num”.  Define another  subprogram that will  give the instruction “I am  thinking of a number…”  and then ask the user to  guess the number they  are thinking of.  Define a third  subprogram that will  check to see if the  comp_num is the same  as the user’s guess. If it  is, it should display the  message “Correct, you  win”, otherwise it should  keep looping, telling the  user if they are too low or  too high and asking them  to guess again until they  guess correctly. \n",
    "import random\n",
    "def pick():\n",
    "    x = int(input(\"Pick a low number. \"))\n",
    "    y = int(input(\"Pick a high number. \"))\n",
    "    comp_num = random.randint(x, y)\n",
    "    return comp_num\n",
    "\n",
    "def state():\n",
    "    print(\"I am thinking of a number.. \")\n",
    "    e = int(input(\"Guess the number I am thinking of. \"))\n",
    "    return e\n",
    "\n",
    "def check(comp_num, e):\n",
    "    hi = True\n",
    "    while hi == True:\n",
    "        \n",
    "        if comp_num == e:\n",
    "            print(\"Correct, you win! \")\n",
    "            hi = False\n",
    "        elif e > comp_num:\n",
    "            e = int(input(\"Too high. Try again. \"))\n",
    "        elif e < comp_num:\n",
    "            e = int(input(\"Too low. Try again. \"))\n",
    "\n",
    "            \n",
    "def main():\n",
    "    comp_num = pick()\n",
    "    e = state()\n",
    "    check(comp_num, e)\n",
    "\n",
    "print(main())   "
   ]
  },
  {
   "cell_type": "code",
   "execution_count": null,
   "id": "904cecd4",
   "metadata": {},
   "outputs": [],
   "source": [
    "#123"
   ]
  }
 ],
 "metadata": {
  "kernelspec": {
   "display_name": "Python 3 (ipykernel)",
   "language": "python",
   "name": "python3"
  },
  "language_info": {
   "codemirror_mode": {
    "name": "ipython",
    "version": 3
   },
   "file_extension": ".py",
   "mimetype": "text/x-python",
   "name": "python",
   "nbconvert_exporter": "python",
   "pygments_lexer": "ipython3",
   "version": "3.9.12"
  }
 },
 "nbformat": 4,
 "nbformat_minor": 5
}
